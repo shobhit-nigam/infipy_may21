{
 "cells": [
  {
   "cell_type": "code",
   "execution_count": 3,
   "metadata": {},
   "outputs": [],
   "source": [
    "lista = list(\"hello world\")"
   ]
  },
  {
   "cell_type": "code",
   "execution_count": 4,
   "metadata": {},
   "outputs": [
    {
     "data": {
      "text/plain": [
       "['h', 'e', 'l', 'l', 'o', ' ', 'w', 'o', 'r', 'l', 'd']"
      ]
     },
     "execution_count": 4,
     "metadata": {},
     "output_type": "execute_result"
    }
   ],
   "source": [
    "lista"
   ]
  },
  {
   "cell_type": "code",
   "execution_count": 5,
   "metadata": {},
   "outputs": [],
   "source": [
    "def vowels(ca):\n",
    "    vowels = ['a', 'e', 'i', 'o', 'u']\n",
    "    return ca in vowels"
   ]
  },
  {
   "cell_type": "code",
   "execution_count": 6,
   "metadata": {},
   "outputs": [],
   "source": [
    "fa = list(filter(vowels , lista))"
   ]
  },
  {
   "cell_type": "code",
   "execution_count": 7,
   "metadata": {},
   "outputs": [
    {
     "name": "stdout",
     "output_type": "stream",
     "text": [
      "['e', 'o', 'o']\n"
     ]
    }
   ],
   "source": [
    "print(fa)"
   ]
  },
  {
   "cell_type": "code",
   "execution_count": 8,
   "metadata": {},
   "outputs": [],
   "source": [
    "listb = ['', 0, 'hi', 23, None, False, [7, 8, 10], 0]"
   ]
  },
  {
   "cell_type": "code",
   "execution_count": 9,
   "metadata": {},
   "outputs": [],
   "source": [
    "listc = [23, listb, lista, \"hello\"]"
   ]
  },
  {
   "cell_type": "code",
   "execution_count": 10,
   "metadata": {},
   "outputs": [
    {
     "data": {
      "text/plain": [
       "[23,\n",
       " ['', 0, 'hi', 23, None, False, [7, 8, 10], 0],\n",
       " ['h', 'e', 'l', 'l', 'o', ' ', 'w', 'o', 'r', 'l', 'd'],\n",
       " 'hello']"
      ]
     },
     "execution_count": 10,
     "metadata": {},
     "output_type": "execute_result"
    }
   ],
   "source": [
    "listc"
   ]
  },
  {
   "cell_type": "code",
   "execution_count": 11,
   "metadata": {},
   "outputs": [],
   "source": [
    "lista.append('r')"
   ]
  },
  {
   "cell_type": "code",
   "execution_count": 12,
   "metadata": {},
   "outputs": [
    {
     "data": {
      "text/plain": [
       "[23,\n",
       " ['', 0, 'hi', 23, None, False, [7, 8, 10], 0],\n",
       " ['h', 'e', 'l', 'l', 'o', ' ', 'w', 'o', 'r', 'l', 'd', 'r'],\n",
       " 'hello']"
      ]
     },
     "execution_count": 12,
     "metadata": {},
     "output_type": "execute_result"
    }
   ],
   "source": [
    "listc"
   ]
  },
  {
   "cell_type": "code",
   "execution_count": 13,
   "metadata": {},
   "outputs": [],
   "source": [
    "listcopy = lista"
   ]
  },
  {
   "cell_type": "code",
   "execution_count": 14,
   "metadata": {},
   "outputs": [
    {
     "data": {
      "text/plain": [
       "['h', 'e', 'l', 'l', 'o', ' ', 'w', 'o', 'r', 'l', 'd', 'r']"
      ]
     },
     "execution_count": 14,
     "metadata": {},
     "output_type": "execute_result"
    }
   ],
   "source": [
    "lista"
   ]
  },
  {
   "cell_type": "code",
   "execution_count": 15,
   "metadata": {},
   "outputs": [
    {
     "data": {
      "text/plain": [
       "['h', 'e', 'l', 'l', 'o', ' ', 'w', 'o', 'r', 'l', 'd', 'r']"
      ]
     },
     "execution_count": 15,
     "metadata": {},
     "output_type": "execute_result"
    }
   ],
   "source": [
    "listcopy"
   ]
  },
  {
   "cell_type": "code",
   "execution_count": 16,
   "metadata": {},
   "outputs": [],
   "source": [
    "listcopy.sort()\n",
    "listcopy.remove('l')"
   ]
  },
  {
   "cell_type": "code",
   "execution_count": 17,
   "metadata": {},
   "outputs": [
    {
     "data": {
      "text/plain": [
       "[' ', 'd', 'e', 'h', 'l', 'l', 'o', 'o', 'r', 'r', 'w']"
      ]
     },
     "execution_count": 17,
     "metadata": {},
     "output_type": "execute_result"
    }
   ],
   "source": [
    "listcopy"
   ]
  },
  {
   "cell_type": "code",
   "execution_count": 18,
   "metadata": {},
   "outputs": [
    {
     "data": {
      "text/plain": [
       "[' ', 'd', 'e', 'h', 'l', 'l', 'o', 'o', 'r', 'r', 'w']"
      ]
     },
     "execution_count": 18,
     "metadata": {},
     "output_type": "execute_result"
    }
   ],
   "source": [
    "lista"
   ]
  },
  {
   "cell_type": "code",
   "execution_count": 19,
   "metadata": {},
   "outputs": [],
   "source": [
    "lista = list(\"hello world\")"
   ]
  },
  {
   "cell_type": "code",
   "execution_count": 20,
   "metadata": {},
   "outputs": [
    {
     "data": {
      "text/plain": [
       "['h', 'e', 'l', 'l', 'o', ' ', 'w', 'o', 'r', 'l', 'd']"
      ]
     },
     "execution_count": 20,
     "metadata": {},
     "output_type": "execute_result"
    }
   ],
   "source": [
    "lista"
   ]
  },
  {
   "cell_type": "code",
   "execution_count": 21,
   "metadata": {},
   "outputs": [],
   "source": [
    "listcopy = lista.copy()"
   ]
  },
  {
   "cell_type": "code",
   "execution_count": 22,
   "metadata": {},
   "outputs": [],
   "source": [
    "# mutables"
   ]
  },
  {
   "cell_type": "code",
   "execution_count": 24,
   "metadata": {},
   "outputs": [],
   "source": [
    "listb = ['', 0, 'hi', 23, None, False, [7, 8, 10], 0, []] "
   ]
  },
  {
   "cell_type": "code",
   "execution_count": 25,
   "metadata": {},
   "outputs": [
    {
     "data": {
      "text/plain": [
       "['hi', 23, [7, 8, 10]]"
      ]
     },
     "execution_count": 25,
     "metadata": {},
     "output_type": "execute_result"
    }
   ],
   "source": [
    "list(filter(None, listb))"
   ]
  },
  {
   "cell_type": "code",
   "execution_count": 26,
   "metadata": {},
   "outputs": [],
   "source": [
    "listx = [4, 7, 12, 5, 9, 11, 3]"
   ]
  },
  {
   "cell_type": "code",
   "execution_count": 27,
   "metadata": {},
   "outputs": [],
   "source": [
    "def algo(la):\n",
    "    return la*2 + 3"
   ]
  },
  {
   "cell_type": "code",
   "execution_count": 28,
   "metadata": {},
   "outputs": [
    {
     "data": {
      "text/plain": [
       "[11, 17, 27, 13, 21, 25, 9]"
      ]
     },
     "execution_count": 28,
     "metadata": {},
     "output_type": "execute_result"
    }
   ],
   "source": [
    "list(map(algo, listx))"
   ]
  },
  {
   "cell_type": "code",
   "execution_count": 29,
   "metadata": {},
   "outputs": [],
   "source": [
    "listx = [4, 7, 12, 5, 9, 11, 3]\n",
    "listy = [11, 17, 27, 13, 21, 25, 9]"
   ]
  },
  {
   "cell_type": "code",
   "execution_count": 30,
   "metadata": {},
   "outputs": [],
   "source": [
    "def algo(la, lb):\n",
    "    return la*2 + lb-1"
   ]
  },
  {
   "cell_type": "code",
   "execution_count": 31,
   "metadata": {},
   "outputs": [
    {
     "data": {
      "text/plain": [
       "[18, 30, 50, 22, 38, 46, 14]"
      ]
     },
     "execution_count": 31,
     "metadata": {},
     "output_type": "execute_result"
    }
   ],
   "source": [
    "list(map(algo, listx, listy))"
   ]
  },
  {
   "cell_type": "code",
   "execution_count": 32,
   "metadata": {},
   "outputs": [],
   "source": [
    "def funca(ta, tb):\n",
    "    print(\"ta =\", ta)\n",
    "    print(\"tb =\", tb)"
   ]
  },
  {
   "cell_type": "code",
   "execution_count": 34,
   "metadata": {},
   "outputs": [
    {
     "ename": "TypeError",
     "evalue": "funca() takes 2 positional arguments but 3 were given",
     "output_type": "error",
     "traceback": [
      "\u001b[0;31m---------------------------------------------------------------------------\u001b[0m",
      "\u001b[0;31mTypeError\u001b[0m                                 Traceback (most recent call last)",
      "\u001b[0;32m<ipython-input-34-fc0ddb020c78>\u001b[0m in \u001b[0;36m<module>\u001b[0;34m\u001b[0m\n\u001b[0;32m----> 1\u001b[0;31m \u001b[0mfunca\u001b[0m\u001b[0;34m(\u001b[0m\u001b[0;36m100\u001b[0m\u001b[0;34m,\u001b[0m \u001b[0;36m200\u001b[0m\u001b[0;34m,\u001b[0m \u001b[0;36m300\u001b[0m\u001b[0;34m)\u001b[0m\u001b[0;34m\u001b[0m\u001b[0;34m\u001b[0m\u001b[0m\n\u001b[0m",
      "\u001b[0;31mTypeError\u001b[0m: funca() takes 2 positional arguments but 3 were given"
     ]
    }
   ],
   "source": [
    "funca(100, 200)"
   ]
  },
  {
   "cell_type": "code",
   "execution_count": 35,
   "metadata": {},
   "outputs": [],
   "source": [
    "def funca(ta, tb, *tc):\n",
    "    print(\"ta =\", ta)\n",
    "    print(\"tb =\", tb)\n",
    "    print(\"tc =\", tc)"
   ]
  },
  {
   "cell_type": "code",
   "execution_count": 36,
   "metadata": {},
   "outputs": [
    {
     "name": "stdout",
     "output_type": "stream",
     "text": [
      "ta = 100\n",
      "tb = 200\n",
      "tc = (300, 'hi', [5, 6, 7])\n"
     ]
    }
   ],
   "source": [
    "funca(100, 200, 300, \"hi\", [5, 6, 7])"
   ]
  },
  {
   "cell_type": "code",
   "execution_count": 37,
   "metadata": {},
   "outputs": [
    {
     "ename": "TypeError",
     "evalue": "'NoneType' object is not callable",
     "output_type": "error",
     "traceback": [
      "\u001b[0;31m---------------------------------------------------------------------------\u001b[0m",
      "\u001b[0;31mTypeError\u001b[0m                                 Traceback (most recent call last)",
      "\u001b[0;32m<ipython-input-37-061f79a46d11>\u001b[0m in \u001b[0;36m<module>\u001b[0;34m\u001b[0m\n\u001b[0;32m----> 1\u001b[0;31m \u001b[0;32mNone\u001b[0m\u001b[0;34m(\u001b[0m\u001b[0;34m)\u001b[0m\u001b[0;34m\u001b[0m\u001b[0;34m\u001b[0m\u001b[0m\n\u001b[0m",
      "\u001b[0;31mTypeError\u001b[0m: 'NoneType' object is not callable"
     ]
    }
   ],
   "source": [
    "None()"
   ]
  },
  {
   "cell_type": "code",
   "execution_count": 38,
   "metadata": {},
   "outputs": [],
   "source": [
    "varx = None\n",
    "vary = None"
   ]
  },
  {
   "cell_type": "code",
   "execution_count": 39,
   "metadata": {},
   "outputs": [
    {
     "data": {
      "text/plain": [
       "True"
      ]
     },
     "execution_count": 39,
     "metadata": {},
     "output_type": "execute_result"
    }
   ],
   "source": [
    "varx == vary"
   ]
  },
  {
   "cell_type": "code",
   "execution_count": 40,
   "metadata": {},
   "outputs": [
    {
     "data": {
      "text/plain": [
       "4493138024"
      ]
     },
     "execution_count": 40,
     "metadata": {},
     "output_type": "execute_result"
    }
   ],
   "source": [
    "id(varx)"
   ]
  },
  {
   "cell_type": "code",
   "execution_count": 41,
   "metadata": {},
   "outputs": [
    {
     "data": {
      "text/plain": [
       "4493138024"
      ]
     },
     "execution_count": 41,
     "metadata": {},
     "output_type": "execute_result"
    }
   ],
   "source": [
    "id(vary)"
   ]
  },
  {
   "cell_type": "code",
   "execution_count": 42,
   "metadata": {},
   "outputs": [],
   "source": [
    "listb = ['', 0, 'hi', 23, None, False, [7, 8, 10], 0, []] "
   ]
  },
  {
   "cell_type": "code",
   "execution_count": 43,
   "metadata": {},
   "outputs": [
    {
     "data": {
      "text/plain": [
       "True"
      ]
     },
     "execution_count": 43,
     "metadata": {},
     "output_type": "execute_result"
    }
   ],
   "source": [
    "listb[4] == varx"
   ]
  },
  {
   "cell_type": "code",
   "execution_count": 44,
   "metadata": {},
   "outputs": [
    {
     "data": {
      "text/plain": [
       "4493138024"
      ]
     },
     "execution_count": 44,
     "metadata": {},
     "output_type": "execute_result"
    }
   ],
   "source": [
    "id(listb[4])"
   ]
  },
  {
   "cell_type": "code",
   "execution_count": 45,
   "metadata": {},
   "outputs": [],
   "source": [
    "data = 23"
   ]
  },
  {
   "cell_type": "code",
   "execution_count": 46,
   "metadata": {},
   "outputs": [
    {
     "data": {
      "text/plain": [
       "4493440832"
      ]
     },
     "execution_count": 46,
     "metadata": {},
     "output_type": "execute_result"
    }
   ],
   "source": [
    "id(data)"
   ]
  },
  {
   "cell_type": "code",
   "execution_count": 47,
   "metadata": {},
   "outputs": [
    {
     "data": {
      "text/plain": [
       "4493440832"
      ]
     },
     "execution_count": 47,
     "metadata": {},
     "output_type": "execute_result"
    }
   ],
   "source": [
    "id(listb[3])"
   ]
  },
  {
   "cell_type": "code",
   "execution_count": 48,
   "metadata": {},
   "outputs": [],
   "source": [
    "strc = ''"
   ]
  },
  {
   "cell_type": "code",
   "execution_count": 49,
   "metadata": {},
   "outputs": [
    {
     "data": {
      "text/plain": [
       "str"
      ]
     },
     "execution_count": 49,
     "metadata": {},
     "output_type": "execute_result"
    }
   ],
   "source": [
    "type(strc)"
   ]
  },
  {
   "cell_type": "code",
   "execution_count": 50,
   "metadata": {},
   "outputs": [
    {
     "data": {
      "text/plain": [
       "0"
      ]
     },
     "execution_count": 50,
     "metadata": {},
     "output_type": "execute_result"
    }
   ],
   "source": [
    "len(strc)"
   ]
  },
  {
   "cell_type": "code",
   "execution_count": 51,
   "metadata": {},
   "outputs": [],
   "source": [
    "# python docs "
   ]
  },
  {
   "cell_type": "code",
   "execution_count": 52,
   "metadata": {},
   "outputs": [
    {
     "data": {
      "text/plain": [
       "[11, 17, 27, 13, 21, 25, 9]"
      ]
     },
     "execution_count": 52,
     "metadata": {},
     "output_type": "execute_result"
    }
   ],
   "source": [
    "def algo(la):\n",
    "    return la*2 + 3\n",
    "\n",
    "map(algo, listx)\n",
    "\n",
    "list(map(lambda la: la*2+3 , listx))"
   ]
  },
  {
   "cell_type": "code",
   "execution_count": 54,
   "metadata": {},
   "outputs": [
    {
     "data": {
      "text/plain": [
       "[4, 7, 12, 5, 9, 11, 3]"
      ]
     },
     "execution_count": 54,
     "metadata": {},
     "output_type": "execute_result"
    }
   ],
   "source": [
    "listx"
   ]
  },
  {
   "cell_type": "code",
   "execution_count": 56,
   "metadata": {},
   "outputs": [
    {
     "data": {
      "text/plain": [
       "[15, 24, 39, 18, 30, 36, 12]"
      ]
     },
     "execution_count": 56,
     "metadata": {},
     "output_type": "execute_result"
    }
   ],
   "source": [
    "list(map(lambda x, y : x+y , listx, listy))"
   ]
  },
  {
   "cell_type": "code",
   "execution_count": 63,
   "metadata": {},
   "outputs": [
    {
     "data": {
      "text/plain": [
       "[None, 24, 39, 18, 30, 36, None]"
      ]
     },
     "execution_count": 63,
     "metadata": {},
     "output_type": "execute_result"
    }
   ],
   "source": [
    "list(map(lambda x, y : x+y if (x+y)>16 else None, listx, listy))"
   ]
  },
  {
   "cell_type": "code",
   "execution_count": 64,
   "metadata": {},
   "outputs": [],
   "source": [
    "def funca(x, y):\n",
    "    if (x+y)>16:\n",
    "        return x+y\n",
    "    else:\n",
    "        return None"
   ]
  },
  {
   "cell_type": "code",
   "execution_count": 66,
   "metadata": {},
   "outputs": [
    {
     "data": {
      "text/plain": [
       "[12, 11]"
      ]
     },
     "execution_count": 66,
     "metadata": {},
     "output_type": "execute_result"
    }
   ],
   "source": [
    "list(filter(lambda x: x>10, listx))"
   ]
  },
  {
   "cell_type": "code",
   "execution_count": 67,
   "metadata": {},
   "outputs": [
    {
     "ename": "TypeError",
     "evalue": "filter expected 2 arguments, got 3",
     "output_type": "error",
     "traceback": [
      "\u001b[0;31m---------------------------------------------------------------------------\u001b[0m",
      "\u001b[0;31mTypeError\u001b[0m                                 Traceback (most recent call last)",
      "\u001b[0;32m<ipython-input-67-45e5479e6397>\u001b[0m in \u001b[0;36m<module>\u001b[0;34m\u001b[0m\n\u001b[0;32m----> 1\u001b[0;31m \u001b[0mlist\u001b[0m\u001b[0;34m(\u001b[0m\u001b[0mfilter\u001b[0m\u001b[0;34m(\u001b[0m\u001b[0;32mlambda\u001b[0m \u001b[0mx\u001b[0m\u001b[0;34m,\u001b[0m \u001b[0my\u001b[0m \u001b[0;34m:\u001b[0m \u001b[0mx\u001b[0m\u001b[0;34m>\u001b[0m\u001b[0my\u001b[0m\u001b[0;34m,\u001b[0m \u001b[0mlistx\u001b[0m\u001b[0;34m,\u001b[0m \u001b[0mlisty\u001b[0m\u001b[0;34m)\u001b[0m\u001b[0;34m)\u001b[0m\u001b[0;34m\u001b[0m\u001b[0;34m\u001b[0m\u001b[0m\n\u001b[0m",
      "\u001b[0;31mTypeError\u001b[0m: filter expected 2 arguments, got 3"
     ]
    }
   ],
   "source": [
    "list(filter(lambda x, y : x>y, (listx, listy))"
   ]
  },
  {
   "cell_type": "code",
   "execution_count": 72,
   "metadata": {},
   "outputs": [],
   "source": [
    "listx = [1, 2, 3, 4, 5, 6]\n",
    "listy = [10, 20, 30, 40, 50, 60, 70, 80, 90]\n",
    "\n",
    "def algo(la, lb):\n",
    "    return la+lb"
   ]
  },
  {
   "cell_type": "code",
   "execution_count": 73,
   "metadata": {},
   "outputs": [
    {
     "data": {
      "text/plain": [
       "[11, 22, 33, 44, 55, 66]"
      ]
     },
     "execution_count": 73,
     "metadata": {},
     "output_type": "execute_result"
    }
   ],
   "source": [
    "list(map(algo, listx, listy)) "
   ]
  },
  {
   "cell_type": "code",
   "execution_count": 77,
   "metadata": {},
   "outputs": [],
   "source": [
    "listx = [1, 2, 3, 4, 5, 6]\n",
    "listy = [20, 120, 300, 410, 50, 60, 70, 180, 90, 100, 110]\n",
    "\n",
    "def algo(la, lb):\n",
    "    return la+lb"
   ]
  },
  {
   "cell_type": "code",
   "execution_count": 78,
   "metadata": {},
   "outputs": [
    {
     "data": {
      "text/plain": [
       "[21, 122, 303, 414, 55, 66]"
      ]
     },
     "execution_count": 78,
     "metadata": {},
     "output_type": "execute_result"
    }
   ],
   "source": [
    "list(map(algo, listy, listx)) "
   ]
  },
  {
   "cell_type": "code",
   "execution_count": 79,
   "metadata": {},
   "outputs": [],
   "source": [
    "# numpy pandas"
   ]
  },
  {
   "cell_type": "code",
   "execution_count": 80,
   "metadata": {},
   "outputs": [],
   "source": [
    "# matplotlib  matlab "
   ]
  },
  {
   "cell_type": "code",
   "execution_count": 82,
   "metadata": {},
   "outputs": [],
   "source": [
    "def funcx(n):\n",
    "    yield n\n",
    "\n",
    "    n = n+1\n",
    "    yield n\n",
    "\n",
    "    n = n+1\n",
    "    yield n"
   ]
  },
  {
   "cell_type": "code",
   "execution_count": 83,
   "metadata": {},
   "outputs": [
    {
     "name": "stdout",
     "output_type": "stream",
     "text": [
      "<generator object funcx at 0x7fb41c91ab50>\n"
     ]
    }
   ],
   "source": [
    "print(funcx(3))"
   ]
  },
  {
   "cell_type": "code",
   "execution_count": 84,
   "metadata": {},
   "outputs": [],
   "source": [
    "x = funcx(3)"
   ]
  },
  {
   "cell_type": "code",
   "execution_count": 85,
   "metadata": {},
   "outputs": [
    {
     "data": {
      "text/plain": [
       "3"
      ]
     },
     "execution_count": 85,
     "metadata": {},
     "output_type": "execute_result"
    }
   ],
   "source": [
    "next(x)"
   ]
  },
  {
   "cell_type": "code",
   "execution_count": 87,
   "metadata": {},
   "outputs": [
    {
     "data": {
      "text/plain": [
       "4"
      ]
     },
     "execution_count": 87,
     "metadata": {},
     "output_type": "execute_result"
    }
   ],
   "source": [
    "next(x)"
   ]
  },
  {
   "cell_type": "code",
   "execution_count": 88,
   "metadata": {},
   "outputs": [
    {
     "data": {
      "text/plain": [
       "5"
      ]
     },
     "execution_count": 88,
     "metadata": {},
     "output_type": "execute_result"
    }
   ],
   "source": [
    "next(x)"
   ]
  },
  {
   "cell_type": "code",
   "execution_count": 89,
   "metadata": {},
   "outputs": [
    {
     "ename": "StopIteration",
     "evalue": "",
     "output_type": "error",
     "traceback": [
      "\u001b[0;31m---------------------------------------------------------------------------\u001b[0m",
      "\u001b[0;31mStopIteration\u001b[0m                             Traceback (most recent call last)",
      "\u001b[0;32m<ipython-input-89-92de4e9f6b1e>\u001b[0m in \u001b[0;36m<module>\u001b[0;34m\u001b[0m\n\u001b[0;32m----> 1\u001b[0;31m \u001b[0mnext\u001b[0m\u001b[0;34m(\u001b[0m\u001b[0mx\u001b[0m\u001b[0;34m)\u001b[0m\u001b[0;34m\u001b[0m\u001b[0;34m\u001b[0m\u001b[0m\n\u001b[0m",
      "\u001b[0;31mStopIteration\u001b[0m: "
     ]
    }
   ],
   "source": [
    "next(x)"
   ]
  },
  {
   "cell_type": "code",
   "execution_count": 90,
   "metadata": {},
   "outputs": [],
   "source": [
    "# __iter__()    __next__()"
   ]
  },
  {
   "cell_type": "code",
   "execution_count": 91,
   "metadata": {},
   "outputs": [
    {
     "name": "stdout",
     "output_type": "stream",
     "text": [
      "4\n",
      "5\n",
      "6\n"
     ]
    }
   ],
   "source": [
    "for val in funcx(4):\n",
    "    print(val)"
   ]
  },
  {
   "cell_type": "code",
   "execution_count": 92,
   "metadata": {},
   "outputs": [
    {
     "name": "stdout",
     "output_type": "stream",
     "text": [
      "0\n",
      "1\n",
      "2\n",
      "3\n"
     ]
    }
   ],
   "source": [
    "for i in range(4):\n",
    "    print(i)"
   ]
  },
  {
   "cell_type": "code",
   "execution_count": 93,
   "metadata": {},
   "outputs": [
    {
     "name": "stdout",
     "output_type": "stream",
     "text": [
      "1\n",
      "2\n",
      "3\n",
      "4\n",
      "5\n",
      "6\n"
     ]
    }
   ],
   "source": [
    "for x in listx:\n",
    "    print(x)"
   ]
  },
  {
   "cell_type": "code",
   "execution_count": 94,
   "metadata": {},
   "outputs": [],
   "source": [
    "def funca(ta, tb, *args, **kwargs):\n",
    "    print(\"ta =\", ta)\n",
    "    print(\"tb =\", tb)\n",
    "    print(\"args =\", args)\n",
    "    print(\"kwargs =\", kwargs)"
   ]
  },
  {
   "cell_type": "code",
   "execution_count": 95,
   "metadata": {},
   "outputs": [
    {
     "name": "stdout",
     "output_type": "stream",
     "text": [
      "ta = 100\n",
      "tb = 200\n",
      "args = (300, 'hi', [5, 6, 7])\n",
      "kwargs = {'country': 'norway', 'region': 'scandanavian'}\n"
     ]
    }
   ],
   "source": [
    "funca(100, 200, 300, \"hi\", [5, 6, 7], country='norway', region='scandanavian')"
   ]
  },
  {
   "cell_type": "code",
   "execution_count": 96,
   "metadata": {},
   "outputs": [],
   "source": [
    "ga = 100\n",
    "\n",
    "def funcg():\n",
    "    print(\"ga in func =\", ga)"
   ]
  },
  {
   "cell_type": "code",
   "execution_count": 97,
   "metadata": {},
   "outputs": [
    {
     "name": "stdout",
     "output_type": "stream",
     "text": [
      "ga in func = 100\n"
     ]
    }
   ],
   "source": [
    "funcg()"
   ]
  },
  {
   "cell_type": "code",
   "execution_count": 98,
   "metadata": {},
   "outputs": [],
   "source": [
    "ga = 100\n",
    "\n",
    "def funcg():\n",
    "    la = 33\n",
    "    print(\"ga in func =\", ga)"
   ]
  },
  {
   "cell_type": "code",
   "execution_count": 99,
   "metadata": {},
   "outputs": [
    {
     "ename": "NameError",
     "evalue": "name 'la' is not defined",
     "output_type": "error",
     "traceback": [
      "\u001b[0;31m---------------------------------------------------------------------------\u001b[0m",
      "\u001b[0;31mNameError\u001b[0m                                 Traceback (most recent call last)",
      "\u001b[0;32m<ipython-input-99-a4b72539b14e>\u001b[0m in \u001b[0;36m<module>\u001b[0;34m\u001b[0m\n\u001b[0;32m----> 1\u001b[0;31m \u001b[0mla\u001b[0m\u001b[0;34m\u001b[0m\u001b[0;34m\u001b[0m\u001b[0m\n\u001b[0m",
      "\u001b[0;31mNameError\u001b[0m: name 'la' is not defined"
     ]
    }
   ],
   "source": [
    "la"
   ]
  },
  {
   "cell_type": "code",
   "execution_count": 100,
   "metadata": {},
   "outputs": [],
   "source": [
    "ga = 100\n",
    "\n",
    "def funcg():\n",
    "    la = 33\n",
    "    ga = 33\n",
    "    print(\"ga in func =\", ga)"
   ]
  },
  {
   "cell_type": "code",
   "execution_count": 101,
   "metadata": {},
   "outputs": [
    {
     "data": {
      "text/plain": [
       "100"
      ]
     },
     "execution_count": 101,
     "metadata": {},
     "output_type": "execute_result"
    }
   ],
   "source": [
    "ga"
   ]
  },
  {
   "cell_type": "code",
   "execution_count": 102,
   "metadata": {},
   "outputs": [
    {
     "name": "stdout",
     "output_type": "stream",
     "text": [
      "ga in func = 33\n"
     ]
    }
   ],
   "source": [
    "funcg()"
   ]
  },
  {
   "cell_type": "code",
   "execution_count": 103,
   "metadata": {},
   "outputs": [
    {
     "data": {
      "text/plain": [
       "100"
      ]
     },
     "execution_count": 103,
     "metadata": {},
     "output_type": "execute_result"
    }
   ],
   "source": [
    "ga"
   ]
  },
  {
   "cell_type": "code",
   "execution_count": 104,
   "metadata": {},
   "outputs": [],
   "source": [
    "ga = 100\n",
    "\n",
    "def funcg():\n",
    "    global ga\n",
    "    la = 33\n",
    "    ga = 33\n",
    "    print(\"ga in func =\", ga)"
   ]
  },
  {
   "cell_type": "code",
   "execution_count": 105,
   "metadata": {},
   "outputs": [
    {
     "data": {
      "text/plain": [
       "100"
      ]
     },
     "execution_count": 105,
     "metadata": {},
     "output_type": "execute_result"
    }
   ],
   "source": [
    "ga"
   ]
  },
  {
   "cell_type": "code",
   "execution_count": 106,
   "metadata": {},
   "outputs": [
    {
     "name": "stdout",
     "output_type": "stream",
     "text": [
      "ga in func = 33\n"
     ]
    }
   ],
   "source": [
    "funcg()"
   ]
  },
  {
   "cell_type": "code",
   "execution_count": 107,
   "metadata": {},
   "outputs": [
    {
     "data": {
      "text/plain": [
       "33"
      ]
     },
     "execution_count": 107,
     "metadata": {},
     "output_type": "execute_result"
    }
   ],
   "source": [
    "ga"
   ]
  },
  {
   "cell_type": "code",
   "execution_count": 108,
   "metadata": {},
   "outputs": [],
   "source": [
    "ga = 100\n",
    "\n",
    "def funcg():\n",
    "    ga = ga + 10\n",
    "    print(\"ga in func =\", ga)"
   ]
  },
  {
   "cell_type": "code",
   "execution_count": 109,
   "metadata": {},
   "outputs": [
    {
     "ename": "UnboundLocalError",
     "evalue": "local variable 'ga' referenced before assignment",
     "output_type": "error",
     "traceback": [
      "\u001b[0;31m---------------------------------------------------------------------------\u001b[0m",
      "\u001b[0;31mUnboundLocalError\u001b[0m                         Traceback (most recent call last)",
      "\u001b[0;32m<ipython-input-109-e614b7f84c3c>\u001b[0m in \u001b[0;36m<module>\u001b[0;34m\u001b[0m\n\u001b[0;32m----> 1\u001b[0;31m \u001b[0mfuncg\u001b[0m\u001b[0;34m(\u001b[0m\u001b[0;34m)\u001b[0m\u001b[0;34m\u001b[0m\u001b[0;34m\u001b[0m\u001b[0m\n\u001b[0m",
      "\u001b[0;32m<ipython-input-108-c5c9cf0a51d1>\u001b[0m in \u001b[0;36mfuncg\u001b[0;34m()\u001b[0m\n\u001b[1;32m      2\u001b[0m \u001b[0;34m\u001b[0m\u001b[0m\n\u001b[1;32m      3\u001b[0m \u001b[0;32mdef\u001b[0m \u001b[0mfuncg\u001b[0m\u001b[0;34m(\u001b[0m\u001b[0;34m)\u001b[0m\u001b[0;34m:\u001b[0m\u001b[0;34m\u001b[0m\u001b[0;34m\u001b[0m\u001b[0m\n\u001b[0;32m----> 4\u001b[0;31m     \u001b[0mga\u001b[0m \u001b[0;34m=\u001b[0m \u001b[0mga\u001b[0m \u001b[0;34m+\u001b[0m \u001b[0;36m10\u001b[0m\u001b[0;34m\u001b[0m\u001b[0;34m\u001b[0m\u001b[0m\n\u001b[0m\u001b[1;32m      5\u001b[0m     \u001b[0mprint\u001b[0m\u001b[0;34m(\u001b[0m\u001b[0;34m\"ga in func =\"\u001b[0m\u001b[0;34m,\u001b[0m \u001b[0mga\u001b[0m\u001b[0;34m)\u001b[0m\u001b[0;34m\u001b[0m\u001b[0;34m\u001b[0m\u001b[0m\n",
      "\u001b[0;31mUnboundLocalError\u001b[0m: local variable 'ga' referenced before assignment"
     ]
    }
   ],
   "source": [
    "funcg()"
   ]
  },
  {
   "cell_type": "code",
   "execution_count": 111,
   "metadata": {},
   "outputs": [
    {
     "name": "stdout",
     "output_type": "stream",
     "text": [
      "None\n"
     ]
    }
   ],
   "source": [
    "print(funcg.__doc__)"
   ]
  },
  {
   "cell_type": "code",
   "execution_count": 112,
   "metadata": {},
   "outputs": [],
   "source": [
    "# annotations "
   ]
  },
  {
   "cell_type": "code",
   "execution_count": 113,
   "metadata": {},
   "outputs": [],
   "source": [
    "def funcs(la, lb) -> str:\n",
    "    return \"hello\""
   ]
  },
  {
   "cell_type": "code",
   "execution_count": 114,
   "metadata": {},
   "outputs": [],
   "source": [
    "val = funcs(10, 20)"
   ]
  },
  {
   "cell_type": "code",
   "execution_count": 115,
   "metadata": {},
   "outputs": [
    {
     "name": "stdout",
     "output_type": "stream",
     "text": [
      "hello\n"
     ]
    }
   ],
   "source": [
    "print(val)"
   ]
  },
  {
   "cell_type": "code",
   "execution_count": 116,
   "metadata": {},
   "outputs": [],
   "source": [
    "def funcs(la, lb) -> str:\n",
    "    return 100"
   ]
  },
  {
   "cell_type": "code",
   "execution_count": 117,
   "metadata": {},
   "outputs": [
    {
     "name": "stdout",
     "output_type": "stream",
     "text": [
      "100\n"
     ]
    }
   ],
   "source": [
    "val = funcs(10, 20)\n",
    "print(val)"
   ]
  },
  {
   "cell_type": "code",
   "execution_count": 118,
   "metadata": {},
   "outputs": [
    {
     "data": {
      "text/plain": [
       "int"
      ]
     },
     "execution_count": 118,
     "metadata": {},
     "output_type": "execute_result"
    }
   ],
   "source": [
    "type(val)"
   ]
  },
  {
   "cell_type": "code",
   "execution_count": 119,
   "metadata": {},
   "outputs": [],
   "source": [
    "def funcs(la, lb:int) -> str:\n",
    "    return 100"
   ]
  },
  {
   "cell_type": "code",
   "execution_count": 120,
   "metadata": {},
   "outputs": [
    {
     "name": "stdout",
     "output_type": "stream",
     "text": [
      "100\n"
     ]
    }
   ],
   "source": [
    "val = funcs(10, 'ii')\n",
    "print(val)"
   ]
  },
  {
   "cell_type": "code",
   "execution_count": 121,
   "metadata": {},
   "outputs": [
    {
     "data": {
      "text/plain": [
       "{'lb': int, 'return': str}"
      ]
     },
     "execution_count": 121,
     "metadata": {},
     "output_type": "execute_result"
    }
   ],
   "source": [
    "funcs.__annotations__"
   ]
  },
  {
   "cell_type": "code",
   "execution_count": 122,
   "metadata": {},
   "outputs": [
    {
     "name": "stdout",
     "output_type": "stream",
     "text": [
      "Help on function funcs in module __main__:\n",
      "\n",
      "funcs(la, lb: int) -> str\n",
      "\n"
     ]
    }
   ],
   "source": [
    "help(funcs)"
   ]
  },
  {
   "cell_type": "code",
   "execution_count": 123,
   "metadata": {},
   "outputs": [],
   "source": [
    "import inspect"
   ]
  },
  {
   "cell_type": "code",
   "execution_count": 124,
   "metadata": {},
   "outputs": [
    {
     "name": "stdout",
     "output_type": "stream",
     "text": [
      "Help on module inspect:\n",
      "\n",
      "NAME\n",
      "    inspect - Get useful information from live Python objects.\n",
      "\n",
      "MODULE REFERENCE\n",
      "    https://docs.python.org/3.7/library/inspect\n",
      "    \n",
      "    The following documentation is automatically generated from the Python\n",
      "    source files.  It may be incomplete, incorrect or include features that\n",
      "    are considered implementation detail and may vary between Python\n",
      "    implementations.  When in doubt, consult the module reference at the\n",
      "    location listed above.\n",
      "\n",
      "DESCRIPTION\n",
      "    This module encapsulates the interface provided by the internal special\n",
      "    attributes (co_*, im_*, tb_*, etc.) in a friendlier fashion.\n",
      "    It also provides some help for examining source code and class layout.\n",
      "    \n",
      "    Here are some of the useful functions provided by this module:\n",
      "    \n",
      "        ismodule(), isclass(), ismethod(), isfunction(), isgeneratorfunction(),\n",
      "            isgenerator(), istraceback(), isframe(), iscode(), isbuiltin(),\n",
      "            isroutine() - check object types\n",
      "        getmembers() - get members of an object that satisfy a given condition\n",
      "    \n",
      "        getfile(), getsourcefile(), getsource() - find an object's source code\n",
      "        getdoc(), getcomments() - get documentation on an object\n",
      "        getmodule() - determine the module that an object came from\n",
      "        getclasstree() - arrange classes so as to represent their hierarchy\n",
      "    \n",
      "        getargvalues(), getcallargs() - get info about function arguments\n",
      "        getfullargspec() - same, with support for Python 3 features\n",
      "        formatargvalues() - format an argument spec\n",
      "        getouterframes(), getinnerframes() - get info about frames\n",
      "        currentframe() - get the current stack frame\n",
      "        stack(), trace() - get info about frames on the stack or in a traceback\n",
      "    \n",
      "        signature() - get a Signature object for the callable\n",
      "\n",
      "CLASSES\n",
      "    builtins.Exception(builtins.BaseException)\n",
      "        EndOfBlock\n",
      "    builtins.object\n",
      "        BlockFinder\n",
      "        BoundArguments\n",
      "        Parameter\n",
      "        Signature\n",
      "    builtins.tuple(builtins.object)\n",
      "        ArgInfo\n",
      "        ArgSpec\n",
      "        Arguments\n",
      "        Attribute\n",
      "        ClosureVars\n",
      "        FrameInfo\n",
      "        FullArgSpec\n",
      "        Traceback\n",
      "    \n",
      "    class ArgInfo(builtins.tuple)\n",
      "     |  ArgInfo(args, varargs, keywords, locals)\n",
      "     |  \n",
      "     |  ArgInfo(args, varargs, keywords, locals)\n",
      "     |  \n",
      "     |  Method resolution order:\n",
      "     |      ArgInfo\n",
      "     |      builtins.tuple\n",
      "     |      builtins.object\n",
      "     |  \n",
      "     |  Methods defined here:\n",
      "     |  \n",
      "     |  __getnewargs__(self)\n",
      "     |      Return self as a plain tuple.  Used by copy and pickle.\n",
      "     |  \n",
      "     |  __repr__(self)\n",
      "     |      Return a nicely formatted representation string\n",
      "     |  \n",
      "     |  _asdict(self)\n",
      "     |      Return a new OrderedDict which maps field names to their values.\n",
      "     |  \n",
      "     |  _replace(_self, **kwds)\n",
      "     |      Return a new ArgInfo object replacing specified fields with new values\n",
      "     |  \n",
      "     |  ----------------------------------------------------------------------\n",
      "     |  Class methods defined here:\n",
      "     |  \n",
      "     |  _make(iterable) from builtins.type\n",
      "     |      Make a new ArgInfo object from a sequence or iterable\n",
      "     |  \n",
      "     |  ----------------------------------------------------------------------\n",
      "     |  Static methods defined here:\n",
      "     |  \n",
      "     |  __new__(_cls, args, varargs, keywords, locals)\n",
      "     |      Create new instance of ArgInfo(args, varargs, keywords, locals)\n",
      "     |  \n",
      "     |  ----------------------------------------------------------------------\n",
      "     |  Data descriptors defined here:\n",
      "     |  \n",
      "     |  args\n",
      "     |      Alias for field number 0\n",
      "     |  \n",
      "     |  varargs\n",
      "     |      Alias for field number 1\n",
      "     |  \n",
      "     |  keywords\n",
      "     |      Alias for field number 2\n",
      "     |  \n",
      "     |  locals\n",
      "     |      Alias for field number 3\n",
      "     |  \n",
      "     |  ----------------------------------------------------------------------\n",
      "     |  Data and other attributes defined here:\n",
      "     |  \n",
      "     |  _field_defaults = {}\n",
      "     |  \n",
      "     |  _fields = ('args', 'varargs', 'keywords', 'locals')\n",
      "     |  \n",
      "     |  _fields_defaults = {}\n",
      "     |  \n",
      "     |  ----------------------------------------------------------------------\n",
      "     |  Methods inherited from builtins.tuple:\n",
      "     |  \n",
      "     |  __add__(self, value, /)\n",
      "     |      Return self+value.\n",
      "     |  \n",
      "     |  __contains__(self, key, /)\n",
      "     |      Return key in self.\n",
      "     |  \n",
      "     |  __eq__(self, value, /)\n",
      "     |      Return self==value.\n",
      "     |  \n",
      "     |  __ge__(self, value, /)\n",
      "     |      Return self>=value.\n",
      "     |  \n",
      "     |  __getattribute__(self, name, /)\n",
      "     |      Return getattr(self, name).\n",
      "     |  \n",
      "     |  __getitem__(self, key, /)\n",
      "     |      Return self[key].\n",
      "     |  \n",
      "     |  __gt__(self, value, /)\n",
      "     |      Return self>value.\n",
      "     |  \n",
      "     |  __hash__(self, /)\n",
      "     |      Return hash(self).\n",
      "     |  \n",
      "     |  __iter__(self, /)\n",
      "     |      Implement iter(self).\n",
      "     |  \n",
      "     |  __le__(self, value, /)\n",
      "     |      Return self<=value.\n",
      "     |  \n",
      "     |  __len__(self, /)\n",
      "     |      Return len(self).\n",
      "     |  \n",
      "     |  __lt__(self, value, /)\n",
      "     |      Return self<value.\n",
      "     |  \n",
      "     |  __mul__(self, value, /)\n",
      "     |      Return self*value.\n",
      "     |  \n",
      "     |  __ne__(self, value, /)\n",
      "     |      Return self!=value.\n",
      "     |  \n",
      "     |  __rmul__(self, value, /)\n",
      "     |      Return value*self.\n",
      "     |  \n",
      "     |  count(self, value, /)\n",
      "     |      Return number of occurrences of value.\n",
      "     |  \n",
      "     |  index(self, value, start=0, stop=9223372036854775807, /)\n",
      "     |      Return first index of value.\n",
      "     |      \n",
      "     |      Raises ValueError if the value is not present.\n",
      "    \n",
      "    class ArgSpec(builtins.tuple)\n",
      "     |  ArgSpec(args, varargs, keywords, defaults)\n",
      "     |  \n",
      "     |  ArgSpec(args, varargs, keywords, defaults)\n",
      "     |  \n",
      "     |  Method resolution order:\n",
      "     |      ArgSpec\n",
      "     |      builtins.tuple\n",
      "     |      builtins.object\n",
      "     |  \n",
      "     |  Methods defined here:\n",
      "     |  \n",
      "     |  __getnewargs__(self)\n",
      "     |      Return self as a plain tuple.  Used by copy and pickle.\n",
      "     |  \n",
      "     |  __repr__(self)\n",
      "     |      Return a nicely formatted representation string\n",
      "     |  \n",
      "     |  _asdict(self)\n",
      "     |      Return a new OrderedDict which maps field names to their values.\n",
      "     |  \n",
      "     |  _replace(_self, **kwds)\n",
      "     |      Return a new ArgSpec object replacing specified fields with new values\n",
      "     |  \n",
      "     |  ----------------------------------------------------------------------\n",
      "     |  Class methods defined here:\n",
      "     |  \n",
      "     |  _make(iterable) from builtins.type\n",
      "     |      Make a new ArgSpec object from a sequence or iterable\n",
      "     |  \n",
      "     |  ----------------------------------------------------------------------\n",
      "     |  Static methods defined here:\n",
      "     |  \n",
      "     |  __new__(_cls, args, varargs, keywords, defaults)\n",
      "     |      Create new instance of ArgSpec(args, varargs, keywords, defaults)\n",
      "     |  \n",
      "     |  ----------------------------------------------------------------------\n",
      "     |  Data descriptors defined here:\n",
      "     |  \n",
      "     |  args\n",
      "     |      Alias for field number 0\n",
      "     |  \n",
      "     |  varargs\n",
      "     |      Alias for field number 1\n",
      "     |  \n",
      "     |  keywords\n",
      "     |      Alias for field number 2\n",
      "     |  \n",
      "     |  defaults\n",
      "     |      Alias for field number 3\n",
      "     |  \n",
      "     |  ----------------------------------------------------------------------\n",
      "     |  Data and other attributes defined here:\n",
      "     |  \n",
      "     |  _field_defaults = {}\n",
      "     |  \n",
      "     |  _fields = ('args', 'varargs', 'keywords', 'defaults')\n",
      "     |  \n",
      "     |  _fields_defaults = {}\n",
      "     |  \n",
      "     |  ----------------------------------------------------------------------\n",
      "     |  Methods inherited from builtins.tuple:\n",
      "     |  \n",
      "     |  __add__(self, value, /)\n",
      "     |      Return self+value.\n",
      "     |  \n",
      "     |  __contains__(self, key, /)\n",
      "     |      Return key in self.\n",
      "     |  \n",
      "     |  __eq__(self, value, /)\n",
      "     |      Return self==value.\n",
      "     |  \n",
      "     |  __ge__(self, value, /)\n",
      "     |      Return self>=value.\n",
      "     |  \n",
      "     |  __getattribute__(self, name, /)\n",
      "     |      Return getattr(self, name).\n",
      "     |  \n",
      "     |  __getitem__(self, key, /)\n",
      "     |      Return self[key].\n",
      "     |  \n",
      "     |  __gt__(self, value, /)\n",
      "     |      Return self>value.\n",
      "     |  \n",
      "     |  __hash__(self, /)\n",
      "     |      Return hash(self).\n",
      "     |  \n",
      "     |  __iter__(self, /)\n",
      "     |      Implement iter(self).\n",
      "     |  \n",
      "     |  __le__(self, value, /)\n",
      "     |      Return self<=value.\n",
      "     |  \n",
      "     |  __len__(self, /)\n",
      "     |      Return len(self).\n",
      "     |  \n",
      "     |  __lt__(self, value, /)\n",
      "     |      Return self<value.\n",
      "     |  \n",
      "     |  __mul__(self, value, /)\n",
      "     |      Return self*value.\n",
      "     |  \n",
      "     |  __ne__(self, value, /)\n",
      "     |      Return self!=value.\n",
      "     |  \n",
      "     |  __rmul__(self, value, /)\n",
      "     |      Return value*self.\n",
      "     |  \n",
      "     |  count(self, value, /)\n",
      "     |      Return number of occurrences of value.\n",
      "     |  \n",
      "     |  index(self, value, start=0, stop=9223372036854775807, /)\n",
      "     |      Return first index of value.\n",
      "     |      \n",
      "     |      Raises ValueError if the value is not present.\n",
      "    \n",
      "    class Arguments(builtins.tuple)\n",
      "     |  Arguments(args, varargs, varkw)\n",
      "     |  \n",
      "     |  Arguments(args, varargs, varkw)\n",
      "     |  \n",
      "     |  Method resolution order:\n",
      "     |      Arguments\n",
      "     |      builtins.tuple\n",
      "     |      builtins.object\n",
      "     |  \n",
      "     |  Methods defined here:\n",
      "     |  \n",
      "     |  __getnewargs__(self)\n",
      "     |      Return self as a plain tuple.  Used by copy and pickle.\n",
      "     |  \n",
      "     |  __repr__(self)\n",
      "     |      Return a nicely formatted representation string\n",
      "     |  \n",
      "     |  _asdict(self)\n",
      "     |      Return a new OrderedDict which maps field names to their values.\n",
      "     |  \n",
      "     |  _replace(_self, **kwds)\n",
      "     |      Return a new Arguments object replacing specified fields with new values\n",
      "     |  \n",
      "     |  ----------------------------------------------------------------------\n",
      "     |  Class methods defined here:\n",
      "     |  \n",
      "     |  _make(iterable) from builtins.type\n",
      "     |      Make a new Arguments object from a sequence or iterable\n",
      "     |  \n",
      "     |  ----------------------------------------------------------------------\n",
      "     |  Static methods defined here:\n",
      "     |  \n",
      "     |  __new__(_cls, args, varargs, varkw)\n",
      "     |      Create new instance of Arguments(args, varargs, varkw)\n",
      "     |  \n",
      "     |  ----------------------------------------------------------------------\n",
      "     |  Data descriptors defined here:\n",
      "     |  \n",
      "     |  args\n",
      "     |      Alias for field number 0\n",
      "     |  \n",
      "     |  varargs\n",
      "     |      Alias for field number 1\n",
      "     |  \n",
      "     |  varkw\n",
      "     |      Alias for field number 2\n",
      "     |  \n",
      "     |  ----------------------------------------------------------------------\n",
      "     |  Data and other attributes defined here:\n",
      "     |  \n",
      "     |  _field_defaults = {}\n",
      "     |  \n",
      "     |  _fields = ('args', 'varargs', 'varkw')\n",
      "     |  \n",
      "     |  _fields_defaults = {}\n",
      "     |  \n",
      "     |  ----------------------------------------------------------------------\n",
      "     |  Methods inherited from builtins.tuple:\n",
      "     |  \n",
      "     |  __add__(self, value, /)\n",
      "     |      Return self+value.\n",
      "     |  \n",
      "     |  __contains__(self, key, /)\n",
      "     |      Return key in self.\n",
      "     |  \n",
      "     |  __eq__(self, value, /)\n",
      "     |      Return self==value.\n",
      "     |  \n",
      "     |  __ge__(self, value, /)\n",
      "     |      Return self>=value.\n",
      "     |  \n",
      "     |  __getattribute__(self, name, /)\n",
      "     |      Return getattr(self, name).\n",
      "     |  \n",
      "     |  __getitem__(self, key, /)\n",
      "     |      Return self[key].\n",
      "     |  \n",
      "     |  __gt__(self, value, /)\n",
      "     |      Return self>value.\n",
      "     |  \n",
      "     |  __hash__(self, /)\n",
      "     |      Return hash(self).\n",
      "     |  \n",
      "     |  __iter__(self, /)\n",
      "     |      Implement iter(self).\n",
      "     |  \n",
      "     |  __le__(self, value, /)\n",
      "     |      Return self<=value.\n",
      "     |  \n",
      "     |  __len__(self, /)\n",
      "     |      Return len(self).\n",
      "     |  \n",
      "     |  __lt__(self, value, /)\n",
      "     |      Return self<value.\n",
      "     |  \n",
      "     |  __mul__(self, value, /)\n",
      "     |      Return self*value.\n",
      "     |  \n",
      "     |  __ne__(self, value, /)\n",
      "     |      Return self!=value.\n",
      "     |  \n",
      "     |  __rmul__(self, value, /)\n",
      "     |      Return value*self.\n",
      "     |  \n",
      "     |  count(self, value, /)\n",
      "     |      Return number of occurrences of value.\n",
      "     |  \n",
      "     |  index(self, value, start=0, stop=9223372036854775807, /)\n",
      "     |      Return first index of value.\n",
      "     |      \n",
      "     |      Raises ValueError if the value is not present.\n",
      "    \n",
      "    class Attribute(builtins.tuple)\n",
      "     |  Attribute(name, kind, defining_class, object)\n",
      "     |  \n",
      "     |  Attribute(name, kind, defining_class, object)\n",
      "     |  \n",
      "     |  Method resolution order:\n",
      "     |      Attribute\n",
      "     |      builtins.tuple\n",
      "     |      builtins.object\n",
      "     |  \n",
      "     |  Methods defined here:\n",
      "     |  \n",
      "     |  __getnewargs__(self)\n",
      "     |      Return self as a plain tuple.  Used by copy and pickle.\n",
      "     |  \n",
      "     |  __repr__(self)\n",
      "     |      Return a nicely formatted representation string\n",
      "     |  \n",
      "     |  _asdict(self)\n",
      "     |      Return a new OrderedDict which maps field names to their values.\n",
      "     |  \n",
      "     |  _replace(_self, **kwds)\n",
      "     |      Return a new Attribute object replacing specified fields with new values\n",
      "     |  \n",
      "     |  ----------------------------------------------------------------------\n",
      "     |  Class methods defined here:\n",
      "     |  \n",
      "     |  _make(iterable) from builtins.type\n",
      "     |      Make a new Attribute object from a sequence or iterable\n",
      "     |  \n",
      "     |  ----------------------------------------------------------------------\n",
      "     |  Static methods defined here:\n",
      "     |  \n",
      "     |  __new__(_cls, name, kind, defining_class, object)\n",
      "     |      Create new instance of Attribute(name, kind, defining_class, object)\n",
      "     |  \n",
      "     |  ----------------------------------------------------------------------\n",
      "     |  Data descriptors defined here:\n",
      "     |  \n",
      "     |  name\n",
      "     |      Alias for field number 0\n",
      "     |  \n",
      "     |  kind\n",
      "     |      Alias for field number 1\n",
      "     |  \n",
      "     |  defining_class\n",
      "     |      Alias for field number 2\n",
      "     |  \n",
      "     |  object\n",
      "     |      Alias for field number 3\n",
      "     |  \n",
      "     |  ----------------------------------------------------------------------\n",
      "     |  Data and other attributes defined here:\n",
      "     |  \n",
      "     |  _field_defaults = {}\n",
      "     |  \n",
      "     |  _fields = ('name', 'kind', 'defining_class', 'object')\n",
      "     |  \n",
      "     |  _fields_defaults = {}\n",
      "     |  \n",
      "     |  ----------------------------------------------------------------------\n",
      "     |  Methods inherited from builtins.tuple:\n",
      "     |  \n",
      "     |  __add__(self, value, /)\n",
      "     |      Return self+value.\n",
      "     |  \n",
      "     |  __contains__(self, key, /)\n",
      "     |      Return key in self.\n",
      "     |  \n",
      "     |  __eq__(self, value, /)\n",
      "     |      Return self==value.\n",
      "     |  \n",
      "     |  __ge__(self, value, /)\n",
      "     |      Return self>=value.\n",
      "     |  \n",
      "     |  __getattribute__(self, name, /)\n",
      "     |      Return getattr(self, name).\n",
      "     |  \n",
      "     |  __getitem__(self, key, /)\n",
      "     |      Return self[key].\n",
      "     |  \n",
      "     |  __gt__(self, value, /)\n",
      "     |      Return self>value.\n",
      "     |  \n",
      "     |  __hash__(self, /)\n",
      "     |      Return hash(self).\n",
      "     |  \n",
      "     |  __iter__(self, /)\n",
      "     |      Implement iter(self).\n",
      "     |  \n",
      "     |  __le__(self, value, /)\n",
      "     |      Return self<=value.\n",
      "     |  \n",
      "     |  __len__(self, /)\n",
      "     |      Return len(self).\n",
      "     |  \n",
      "     |  __lt__(self, value, /)\n",
      "     |      Return self<value.\n",
      "     |  \n",
      "     |  __mul__(self, value, /)\n",
      "     |      Return self*value.\n",
      "     |  \n",
      "     |  __ne__(self, value, /)\n",
      "     |      Return self!=value.\n",
      "     |  \n",
      "     |  __rmul__(self, value, /)\n",
      "     |      Return value*self.\n",
      "     |  \n",
      "     |  count(self, value, /)\n",
      "     |      Return number of occurrences of value.\n",
      "     |  \n",
      "     |  index(self, value, start=0, stop=9223372036854775807, /)\n",
      "     |      Return first index of value.\n",
      "     |      \n",
      "     |      Raises ValueError if the value is not present.\n",
      "    \n",
      "    class BlockFinder(builtins.object)\n",
      "     |  Provide a tokeneater() method to detect the end of a code block.\n",
      "     |  \n",
      "     |  Methods defined here:\n",
      "     |  \n",
      "     |  __init__(self)\n",
      "     |      Initialize self.  See help(type(self)) for accurate signature.\n",
      "     |  \n",
      "     |  tokeneater(self, type, token, srowcol, erowcol, line)\n",
      "     |  \n",
      "     |  ----------------------------------------------------------------------\n",
      "     |  Data descriptors defined here:\n",
      "     |  \n",
      "     |  __dict__\n",
      "     |      dictionary for instance variables (if defined)\n",
      "     |  \n",
      "     |  __weakref__\n",
      "     |      list of weak references to the object (if defined)\n",
      "    \n",
      "    class BoundArguments(builtins.object)\n",
      "     |  BoundArguments(signature, arguments)\n",
      "     |  \n",
      "     |  Result of `Signature.bind` call.  Holds the mapping of arguments\n",
      "     |  to the function's parameters.\n",
      "     |  \n",
      "     |  Has the following public attributes:\n",
      "     |  \n",
      "     |  * arguments : OrderedDict\n",
      "     |      An ordered mutable mapping of parameters' names to arguments' values.\n",
      "     |      Does not contain arguments' default values.\n",
      "     |  * signature : Signature\n",
      "     |      The Signature object that created this instance.\n",
      "     |  * args : tuple\n",
      "     |      Tuple of positional arguments values.\n",
      "     |  * kwargs : dict\n",
      "     |      Dict of keyword arguments values.\n",
      "     |  \n",
      "     |  Methods defined here:\n",
      "     |  \n",
      "     |  __eq__(self, other)\n",
      "     |      Return self==value.\n",
      "     |  \n",
      "     |  __getstate__(self)\n",
      "     |  \n",
      "     |  __init__(self, signature, arguments)\n",
      "     |      Initialize self.  See help(type(self)) for accurate signature.\n",
      "     |  \n",
      "     |  __repr__(self)\n",
      "     |      Return repr(self).\n",
      "     |  \n",
      "     |  __setstate__(self, state)\n",
      "     |  \n",
      "     |  apply_defaults(self)\n",
      "     |      Set default values for missing arguments.\n",
      "     |      \n",
      "     |      For variable-positional arguments (*args) the default is an\n",
      "     |      empty tuple.\n",
      "     |      \n",
      "     |      For variable-keyword arguments (**kwargs) the default is an\n",
      "     |      empty dict.\n",
      "     |  \n",
      "     |  ----------------------------------------------------------------------\n",
      "     |  Data descriptors defined here:\n",
      "     |  \n",
      "     |  __weakref__\n",
      "     |      list of weak references to the object (if defined)\n",
      "     |  \n",
      "     |  args\n",
      "     |  \n",
      "     |  arguments\n",
      "     |  \n",
      "     |  kwargs\n",
      "     |  \n",
      "     |  signature\n",
      "     |  \n",
      "     |  ----------------------------------------------------------------------\n",
      "     |  Data and other attributes defined here:\n",
      "     |  \n",
      "     |  __hash__ = None\n",
      "    \n",
      "    class ClosureVars(builtins.tuple)\n",
      "     |  ClosureVars(nonlocals, globals, builtins, unbound)\n",
      "     |  \n",
      "     |  ClosureVars(nonlocals, globals, builtins, unbound)\n",
      "     |  \n",
      "     |  Method resolution order:\n",
      "     |      ClosureVars\n",
      "     |      builtins.tuple\n",
      "     |      builtins.object\n",
      "     |  \n",
      "     |  Methods defined here:\n",
      "     |  \n",
      "     |  __getnewargs__(self)\n",
      "     |      Return self as a plain tuple.  Used by copy and pickle.\n",
      "     |  \n",
      "     |  __repr__(self)\n",
      "     |      Return a nicely formatted representation string\n",
      "     |  \n",
      "     |  _asdict(self)\n",
      "     |      Return a new OrderedDict which maps field names to their values.\n",
      "     |  \n",
      "     |  _replace(_self, **kwds)\n",
      "     |      Return a new ClosureVars object replacing specified fields with new values\n",
      "     |  \n",
      "     |  ----------------------------------------------------------------------\n",
      "     |  Class methods defined here:\n",
      "     |  \n",
      "     |  _make(iterable) from builtins.type\n",
      "     |      Make a new ClosureVars object from a sequence or iterable\n",
      "     |  \n",
      "     |  ----------------------------------------------------------------------\n",
      "     |  Static methods defined here:\n",
      "     |  \n",
      "     |  __new__(_cls, nonlocals, globals, builtins, unbound)\n",
      "     |      Create new instance of ClosureVars(nonlocals, globals, builtins, unbound)\n",
      "     |  \n",
      "     |  ----------------------------------------------------------------------\n",
      "     |  Data descriptors defined here:\n",
      "     |  \n",
      "     |  nonlocals\n",
      "     |      Alias for field number 0\n",
      "     |  \n",
      "     |  globals\n",
      "     |      Alias for field number 1\n",
      "     |  \n",
      "     |  builtins\n",
      "     |      Alias for field number 2\n",
      "     |  \n",
      "     |  unbound\n",
      "     |      Alias for field number 3\n",
      "     |  \n",
      "     |  ----------------------------------------------------------------------\n",
      "     |  Data and other attributes defined here:\n",
      "     |  \n",
      "     |  _field_defaults = {}\n",
      "     |  \n",
      "     |  _fields = ('nonlocals', 'globals', 'builtins', 'unbound')\n",
      "     |  \n",
      "     |  _fields_defaults = {}\n",
      "     |  \n",
      "     |  ----------------------------------------------------------------------\n",
      "     |  Methods inherited from builtins.tuple:\n",
      "     |  \n",
      "     |  __add__(self, value, /)\n",
      "     |      Return self+value.\n",
      "     |  \n",
      "     |  __contains__(self, key, /)\n",
      "     |      Return key in self.\n",
      "     |  \n",
      "     |  __eq__(self, value, /)\n",
      "     |      Return self==value.\n",
      "     |  \n",
      "     |  __ge__(self, value, /)\n",
      "     |      Return self>=value.\n",
      "     |  \n",
      "     |  __getattribute__(self, name, /)\n",
      "     |      Return getattr(self, name).\n",
      "     |  \n",
      "     |  __getitem__(self, key, /)\n",
      "     |      Return self[key].\n",
      "     |  \n",
      "     |  __gt__(self, value, /)\n",
      "     |      Return self>value.\n",
      "     |  \n",
      "     |  __hash__(self, /)\n",
      "     |      Return hash(self).\n",
      "     |  \n",
      "     |  __iter__(self, /)\n",
      "     |      Implement iter(self).\n",
      "     |  \n",
      "     |  __le__(self, value, /)\n",
      "     |      Return self<=value.\n",
      "     |  \n",
      "     |  __len__(self, /)\n",
      "     |      Return len(self).\n",
      "     |  \n",
      "     |  __lt__(self, value, /)\n",
      "     |      Return self<value.\n",
      "     |  \n",
      "     |  __mul__(self, value, /)\n",
      "     |      Return self*value.\n",
      "     |  \n",
      "     |  __ne__(self, value, /)\n",
      "     |      Return self!=value.\n",
      "     |  \n",
      "     |  __rmul__(self, value, /)\n",
      "     |      Return value*self.\n",
      "     |  \n",
      "     |  count(self, value, /)\n",
      "     |      Return number of occurrences of value.\n",
      "     |  \n",
      "     |  index(self, value, start=0, stop=9223372036854775807, /)\n",
      "     |      Return first index of value.\n",
      "     |      \n",
      "     |      Raises ValueError if the value is not present.\n",
      "    \n",
      "    class EndOfBlock(builtins.Exception)\n",
      "     |  Common base class for all non-exit exceptions.\n",
      "     |  \n",
      "     |  Method resolution order:\n",
      "     |      EndOfBlock\n",
      "     |      builtins.Exception\n",
      "     |      builtins.BaseException\n",
      "     |      builtins.object\n",
      "     |  \n",
      "     |  Data descriptors defined here:\n",
      "     |  \n",
      "     |  __weakref__\n",
      "     |      list of weak references to the object (if defined)\n",
      "     |  \n",
      "     |  ----------------------------------------------------------------------\n",
      "     |  Methods inherited from builtins.Exception:\n",
      "     |  \n",
      "     |  __init__(self, /, *args, **kwargs)\n",
      "     |      Initialize self.  See help(type(self)) for accurate signature.\n",
      "     |  \n",
      "     |  ----------------------------------------------------------------------\n",
      "     |  Static methods inherited from builtins.Exception:\n",
      "     |  \n",
      "     |  __new__(*args, **kwargs) from builtins.type\n",
      "     |      Create and return a new object.  See help(type) for accurate signature.\n",
      "     |  \n",
      "     |  ----------------------------------------------------------------------\n",
      "     |  Methods inherited from builtins.BaseException:\n",
      "     |  \n",
      "     |  __delattr__(self, name, /)\n",
      "     |      Implement delattr(self, name).\n",
      "     |  \n",
      "     |  __getattribute__(self, name, /)\n",
      "     |      Return getattr(self, name).\n",
      "     |  \n",
      "     |  __reduce__(...)\n",
      "     |      Helper for pickle.\n",
      "     |  \n",
      "     |  __repr__(self, /)\n",
      "     |      Return repr(self).\n",
      "     |  \n",
      "     |  __setattr__(self, name, value, /)\n",
      "     |      Implement setattr(self, name, value).\n",
      "     |  \n",
      "     |  __setstate__(...)\n",
      "     |  \n",
      "     |  __str__(self, /)\n",
      "     |      Return str(self).\n",
      "     |  \n",
      "     |  with_traceback(...)\n",
      "     |      Exception.with_traceback(tb) --\n",
      "     |      set self.__traceback__ to tb and return self.\n",
      "     |  \n",
      "     |  ----------------------------------------------------------------------\n",
      "     |  Data descriptors inherited from builtins.BaseException:\n",
      "     |  \n",
      "     |  __cause__\n",
      "     |      exception cause\n",
      "     |  \n",
      "     |  __context__\n",
      "     |      exception context\n",
      "     |  \n",
      "     |  __dict__\n",
      "     |  \n",
      "     |  __suppress_context__\n",
      "     |  \n",
      "     |  __traceback__\n",
      "     |  \n",
      "     |  args\n",
      "    \n",
      "    class FrameInfo(builtins.tuple)\n",
      "     |  FrameInfo(frame, filename, lineno, function, code_context, index)\n",
      "     |  \n",
      "     |  FrameInfo(frame, filename, lineno, function, code_context, index)\n",
      "     |  \n",
      "     |  Method resolution order:\n",
      "     |      FrameInfo\n",
      "     |      builtins.tuple\n",
      "     |      builtins.object\n",
      "     |  \n",
      "     |  Methods defined here:\n",
      "     |  \n",
      "     |  __getnewargs__(self)\n",
      "     |      Return self as a plain tuple.  Used by copy and pickle.\n",
      "     |  \n",
      "     |  __repr__(self)\n",
      "     |      Return a nicely formatted representation string\n",
      "     |  \n",
      "     |  _asdict(self)\n",
      "     |      Return a new OrderedDict which maps field names to their values.\n",
      "     |  \n",
      "     |  _replace(_self, **kwds)\n",
      "     |      Return a new FrameInfo object replacing specified fields with new values\n",
      "     |  \n",
      "     |  ----------------------------------------------------------------------\n",
      "     |  Class methods defined here:\n",
      "     |  \n",
      "     |  _make(iterable) from builtins.type\n",
      "     |      Make a new FrameInfo object from a sequence or iterable\n",
      "     |  \n",
      "     |  ----------------------------------------------------------------------\n",
      "     |  Static methods defined here:\n",
      "     |  \n",
      "     |  __new__(_cls, frame, filename, lineno, function, code_context, index)\n",
      "     |      Create new instance of FrameInfo(frame, filename, lineno, function, code_context, index)\n",
      "     |  \n",
      "     |  ----------------------------------------------------------------------\n",
      "     |  Data descriptors defined here:\n",
      "     |  \n",
      "     |  frame\n",
      "     |      Alias for field number 0\n",
      "     |  \n",
      "     |  filename\n",
      "     |      Alias for field number 1\n",
      "     |  \n",
      "     |  lineno\n",
      "     |      Alias for field number 2\n",
      "     |  \n",
      "     |  function\n",
      "     |      Alias for field number 3\n",
      "     |  \n",
      "     |  code_context\n",
      "     |      Alias for field number 4\n",
      "     |  \n",
      "     |  index\n",
      "     |      Alias for field number 5\n",
      "     |  \n",
      "     |  ----------------------------------------------------------------------\n",
      "     |  Data and other attributes defined here:\n",
      "     |  \n",
      "     |  _field_defaults = {}\n",
      "     |  \n",
      "     |  _fields = ('frame', 'filename', 'lineno', 'function', 'code_context', ...\n",
      "     |  \n",
      "     |  _fields_defaults = {}\n",
      "     |  \n",
      "     |  ----------------------------------------------------------------------\n",
      "     |  Methods inherited from builtins.tuple:\n",
      "     |  \n",
      "     |  __add__(self, value, /)\n",
      "     |      Return self+value.\n",
      "     |  \n",
      "     |  __contains__(self, key, /)\n",
      "     |      Return key in self.\n",
      "     |  \n",
      "     |  __eq__(self, value, /)\n",
      "     |      Return self==value.\n",
      "     |  \n",
      "     |  __ge__(self, value, /)\n",
      "     |      Return self>=value.\n",
      "     |  \n",
      "     |  __getattribute__(self, name, /)\n",
      "     |      Return getattr(self, name).\n",
      "     |  \n",
      "     |  __getitem__(self, key, /)\n",
      "     |      Return self[key].\n",
      "     |  \n",
      "     |  __gt__(self, value, /)\n",
      "     |      Return self>value.\n",
      "     |  \n",
      "     |  __hash__(self, /)\n",
      "     |      Return hash(self).\n",
      "     |  \n",
      "     |  __iter__(self, /)\n",
      "     |      Implement iter(self).\n",
      "     |  \n",
      "     |  __le__(self, value, /)\n",
      "     |      Return self<=value.\n",
      "     |  \n",
      "     |  __len__(self, /)\n",
      "     |      Return len(self).\n",
      "     |  \n",
      "     |  __lt__(self, value, /)\n",
      "     |      Return self<value.\n",
      "     |  \n",
      "     |  __mul__(self, value, /)\n",
      "     |      Return self*value.\n",
      "     |  \n",
      "     |  __ne__(self, value, /)\n",
      "     |      Return self!=value.\n",
      "     |  \n",
      "     |  __rmul__(self, value, /)\n",
      "     |      Return value*self.\n",
      "     |  \n",
      "     |  count(self, value, /)\n",
      "     |      Return number of occurrences of value.\n",
      "    \n",
      "    class FullArgSpec(builtins.tuple)\n",
      "     |  FullArgSpec(args, varargs, varkw, defaults, kwonlyargs, kwonlydefaults, annotations)\n",
      "     |  \n",
      "     |  FullArgSpec(args, varargs, varkw, defaults, kwonlyargs, kwonlydefaults, annotations)\n",
      "     |  \n",
      "     |  Method resolution order:\n",
      "     |      FullArgSpec\n",
      "     |      builtins.tuple\n",
      "     |      builtins.object\n",
      "     |  \n",
      "     |  Methods defined here:\n",
      "     |  \n",
      "     |  __getnewargs__(self)\n",
      "     |      Return self as a plain tuple.  Used by copy and pickle.\n",
      "     |  \n",
      "     |  __repr__(self)\n",
      "     |      Return a nicely formatted representation string\n",
      "     |  \n",
      "     |  _asdict(self)\n",
      "     |      Return a new OrderedDict which maps field names to their values.\n",
      "     |  \n",
      "     |  _replace(_self, **kwds)\n",
      "     |      Return a new FullArgSpec object replacing specified fields with new values\n",
      "     |  \n",
      "     |  ----------------------------------------------------------------------\n",
      "     |  Class methods defined here:\n",
      "     |  \n",
      "     |  _make(iterable) from builtins.type\n",
      "     |      Make a new FullArgSpec object from a sequence or iterable\n",
      "     |  \n",
      "     |  ----------------------------------------------------------------------\n",
      "     |  Static methods defined here:\n",
      "     |  \n",
      "     |  __new__(_cls, args, varargs, varkw, defaults, kwonlyargs, kwonlydefaults, annotations)\n",
      "     |      Create new instance of FullArgSpec(args, varargs, varkw, defaults, kwonlyargs, kwonlydefaults, annotations)\n",
      "     |  \n",
      "     |  ----------------------------------------------------------------------\n",
      "     |  Data descriptors defined here:\n",
      "     |  \n",
      "     |  args\n",
      "     |      Alias for field number 0\n",
      "     |  \n",
      "     |  varargs\n",
      "     |      Alias for field number 1\n",
      "     |  \n",
      "     |  varkw\n",
      "     |      Alias for field number 2\n",
      "     |  \n",
      "     |  defaults\n",
      "     |      Alias for field number 3\n",
      "     |  \n",
      "     |  kwonlyargs\n",
      "     |      Alias for field number 4\n",
      "     |  \n",
      "     |  kwonlydefaults\n",
      "     |      Alias for field number 5\n",
      "     |  \n",
      "     |  annotations\n",
      "     |      Alias for field number 6\n",
      "     |  \n",
      "     |  ----------------------------------------------------------------------\n",
      "     |  Data and other attributes defined here:\n",
      "     |  \n",
      "     |  _field_defaults = {}\n",
      "     |  \n",
      "     |  _fields = ('args', 'varargs', 'varkw', 'defaults', 'kwonlyargs', 'kwon...\n",
      "     |  \n",
      "     |  _fields_defaults = {}\n",
      "     |  \n",
      "     |  ----------------------------------------------------------------------\n",
      "     |  Methods inherited from builtins.tuple:\n",
      "     |  \n",
      "     |  __add__(self, value, /)\n",
      "     |      Return self+value.\n",
      "     |  \n",
      "     |  __contains__(self, key, /)\n",
      "     |      Return key in self.\n",
      "     |  \n",
      "     |  __eq__(self, value, /)\n",
      "     |      Return self==value.\n",
      "     |  \n",
      "     |  __ge__(self, value, /)\n",
      "     |      Return self>=value.\n",
      "     |  \n",
      "     |  __getattribute__(self, name, /)\n",
      "     |      Return getattr(self, name).\n",
      "     |  \n",
      "     |  __getitem__(self, key, /)\n",
      "     |      Return self[key].\n",
      "     |  \n",
      "     |  __gt__(self, value, /)\n",
      "     |      Return self>value.\n",
      "     |  \n",
      "     |  __hash__(self, /)\n",
      "     |      Return hash(self).\n",
      "     |  \n",
      "     |  __iter__(self, /)\n",
      "     |      Implement iter(self).\n",
      "     |  \n",
      "     |  __le__(self, value, /)\n",
      "     |      Return self<=value.\n",
      "     |  \n",
      "     |  __len__(self, /)\n",
      "     |      Return len(self).\n",
      "     |  \n",
      "     |  __lt__(self, value, /)\n",
      "     |      Return self<value.\n",
      "     |  \n",
      "     |  __mul__(self, value, /)\n",
      "     |      Return self*value.\n",
      "     |  \n",
      "     |  __ne__(self, value, /)\n",
      "     |      Return self!=value.\n",
      "     |  \n",
      "     |  __rmul__(self, value, /)\n",
      "     |      Return value*self.\n",
      "     |  \n",
      "     |  count(self, value, /)\n",
      "     |      Return number of occurrences of value.\n",
      "     |  \n",
      "     |  index(self, value, start=0, stop=9223372036854775807, /)\n",
      "     |      Return first index of value.\n",
      "     |      \n",
      "     |      Raises ValueError if the value is not present.\n",
      "    \n",
      "    class Parameter(builtins.object)\n",
      "     |  Parameter(name, kind, *, default, annotation)\n",
      "     |  \n",
      "     |  Represents a parameter in a function signature.\n",
      "     |  \n",
      "     |  Has the following public attributes:\n",
      "     |  \n",
      "     |  * name : str\n",
      "     |      The name of the parameter as a string.\n",
      "     |  * default : object\n",
      "     |      The default value for the parameter if specified.  If the\n",
      "     |      parameter has no default value, this attribute is set to\n",
      "     |      `Parameter.empty`.\n",
      "     |  * annotation\n",
      "     |      The annotation for the parameter if specified.  If the\n",
      "     |      parameter has no annotation, this attribute is set to\n",
      "     |      `Parameter.empty`.\n",
      "     |  * kind : str\n",
      "     |      Describes how argument values are bound to the parameter.\n",
      "     |      Possible values: `Parameter.POSITIONAL_ONLY`,\n",
      "     |      `Parameter.POSITIONAL_OR_KEYWORD`, `Parameter.VAR_POSITIONAL`,\n",
      "     |      `Parameter.KEYWORD_ONLY`, `Parameter.VAR_KEYWORD`.\n",
      "     |  \n",
      "     |  Methods defined here:\n",
      "     |  \n",
      "     |  __eq__(self, other)\n",
      "     |      Return self==value.\n",
      "     |  \n",
      "     |  __hash__(self)\n",
      "     |      Return hash(self).\n",
      "     |  \n",
      "     |  __init__(self, name, kind, *, default, annotation)\n",
      "     |      Initialize self.  See help(type(self)) for accurate signature.\n",
      "     |  \n",
      "     |  __reduce__(self)\n",
      "     |      Helper for pickle.\n",
      "     |  \n",
      "     |  __repr__(self)\n",
      "     |      Return repr(self).\n",
      "     |  \n",
      "     |  __setstate__(self, state)\n",
      "     |  \n",
      "     |  __str__(self)\n",
      "     |      Return str(self).\n",
      "     |  \n",
      "     |  replace(self, *, name=<class 'inspect._void'>, kind=<class 'inspect._void'>, annotation=<class 'inspect._void'>, default=<class 'inspect._void'>)\n",
      "     |      Creates a customized copy of the Parameter.\n",
      "     |  \n",
      "     |  ----------------------------------------------------------------------\n",
      "     |  Data descriptors defined here:\n",
      "     |  \n",
      "     |  annotation\n",
      "     |  \n",
      "     |  default\n",
      "     |  \n",
      "     |  kind\n",
      "     |  \n",
      "     |  name\n",
      "     |  \n",
      "     |  ----------------------------------------------------------------------\n",
      "     |  Data and other attributes defined here:\n",
      "     |  \n",
      "     |  KEYWORD_ONLY = <_ParameterKind.KEYWORD_ONLY: 3>\n",
      "     |  \n",
      "     |  POSITIONAL_ONLY = <_ParameterKind.POSITIONAL_ONLY: 0>\n",
      "     |  \n",
      "     |  POSITIONAL_OR_KEYWORD = <_ParameterKind.POSITIONAL_OR_KEYWORD: 1>\n",
      "     |  \n",
      "     |  VAR_KEYWORD = <_ParameterKind.VAR_KEYWORD: 4>\n",
      "     |  \n",
      "     |  VAR_POSITIONAL = <_ParameterKind.VAR_POSITIONAL: 2>\n",
      "     |  \n",
      "     |  empty = <class 'inspect._empty'>\n",
      "     |      Marker object for Signature.empty and Parameter.empty.\n",
      "    \n",
      "    class Signature(builtins.object)\n",
      "     |  Signature(parameters=None, *, return_annotation, __validate_parameters__=True)\n",
      "     |  \n",
      "     |  A Signature object represents the overall signature of a function.\n",
      "     |  It stores a Parameter object for each parameter accepted by the\n",
      "     |  function, as well as information specific to the function itself.\n",
      "     |  \n",
      "     |  A Signature object has the following public attributes and methods:\n",
      "     |  \n",
      "     |  * parameters : OrderedDict\n",
      "     |      An ordered mapping of parameters' names to the corresponding\n",
      "     |      Parameter objects (keyword-only arguments are in the same order\n",
      "     |      as listed in `code.co_varnames`).\n",
      "     |  * return_annotation : object\n",
      "     |      The annotation for the return type of the function if specified.\n",
      "     |      If the function has no annotation for its return type, this\n",
      "     |      attribute is set to `Signature.empty`.\n",
      "     |  * bind(*args, **kwargs) -> BoundArguments\n",
      "     |      Creates a mapping from positional and keyword arguments to\n",
      "     |      parameters.\n",
      "     |  * bind_partial(*args, **kwargs) -> BoundArguments\n",
      "     |      Creates a partial mapping from positional and keyword arguments\n",
      "     |      to parameters (simulating 'functools.partial' behavior.)\n",
      "     |  \n",
      "     |  Methods defined here:\n",
      "     |  \n",
      "     |  __eq__(self, other)\n",
      "     |      Return self==value.\n",
      "     |  \n",
      "     |  __hash__(self)\n",
      "     |      Return hash(self).\n",
      "     |  \n",
      "     |  __init__(self, parameters=None, *, return_annotation, __validate_parameters__=True)\n",
      "     |      Constructs Signature from the given list of Parameter\n",
      "     |      objects and 'return_annotation'.  All arguments are optional.\n",
      "     |  \n",
      "     |  __reduce__(self)\n",
      "     |      Helper for pickle.\n",
      "     |  \n",
      "     |  __repr__(self)\n",
      "     |      Return repr(self).\n",
      "     |  \n",
      "     |  __setstate__(self, state)\n",
      "     |  \n",
      "     |  __str__(self)\n",
      "     |      Return str(self).\n",
      "     |  \n",
      "     |  bind(*args, **kwargs)\n",
      "     |      Get a BoundArguments object, that maps the passed `args`\n",
      "     |      and `kwargs` to the function's signature.  Raises `TypeError`\n",
      "     |      if the passed arguments can not be bound.\n",
      "     |  \n",
      "     |  bind_partial(*args, **kwargs)\n",
      "     |      Get a BoundArguments object, that partially maps the\n",
      "     |      passed `args` and `kwargs` to the function's signature.\n",
      "     |      Raises `TypeError` if the passed arguments can not be bound.\n",
      "     |  \n",
      "     |  replace(self, *, parameters=<class 'inspect._void'>, return_annotation=<class 'inspect._void'>)\n",
      "     |      Creates a customized copy of the Signature.\n",
      "     |      Pass 'parameters' and/or 'return_annotation' arguments\n",
      "     |      to override them in the new copy.\n",
      "     |  \n",
      "     |  ----------------------------------------------------------------------\n",
      "     |  Class methods defined here:\n",
      "     |  \n",
      "     |  from_builtin(func) from builtins.type\n",
      "     |      Constructs Signature for the given builtin function.\n",
      "     |      \n",
      "     |      Deprecated since Python 3.5, use `Signature.from_callable()`.\n",
      "     |  \n",
      "     |  from_callable(obj, *, follow_wrapped=True) from builtins.type\n",
      "     |      Constructs Signature for the given callable object.\n",
      "     |  \n",
      "     |  from_function(func) from builtins.type\n",
      "     |      Constructs Signature for the given python function.\n",
      "     |      \n",
      "     |      Deprecated since Python 3.5, use `Signature.from_callable()`.\n",
      "     |  \n",
      "     |  ----------------------------------------------------------------------\n",
      "     |  Data descriptors defined here:\n",
      "     |  \n",
      "     |  parameters\n",
      "     |  \n",
      "     |  return_annotation\n",
      "     |  \n",
      "     |  ----------------------------------------------------------------------\n",
      "     |  Data and other attributes defined here:\n",
      "     |  \n",
      "     |  empty = <class 'inspect._empty'>\n",
      "     |      Marker object for Signature.empty and Parameter.empty.\n",
      "    \n",
      "    class Traceback(builtins.tuple)\n",
      "     |  Traceback(filename, lineno, function, code_context, index)\n",
      "     |  \n",
      "     |  Traceback(filename, lineno, function, code_context, index)\n",
      "     |  \n",
      "     |  Method resolution order:\n",
      "     |      Traceback\n",
      "     |      builtins.tuple\n",
      "     |      builtins.object\n",
      "     |  \n",
      "     |  Methods defined here:\n",
      "     |  \n",
      "     |  __getnewargs__(self)\n",
      "     |      Return self as a plain tuple.  Used by copy and pickle.\n",
      "     |  \n",
      "     |  __repr__(self)\n",
      "     |      Return a nicely formatted representation string\n",
      "     |  \n",
      "     |  _asdict(self)\n",
      "     |      Return a new OrderedDict which maps field names to their values.\n",
      "     |  \n",
      "     |  _replace(_self, **kwds)\n",
      "     |      Return a new Traceback object replacing specified fields with new values\n",
      "     |  \n",
      "     |  ----------------------------------------------------------------------\n",
      "     |  Class methods defined here:\n",
      "     |  \n",
      "     |  _make(iterable) from builtins.type\n",
      "     |      Make a new Traceback object from a sequence or iterable\n",
      "     |  \n",
      "     |  ----------------------------------------------------------------------\n",
      "     |  Static methods defined here:\n",
      "     |  \n",
      "     |  __new__(_cls, filename, lineno, function, code_context, index)\n",
      "     |      Create new instance of Traceback(filename, lineno, function, code_context, index)\n",
      "     |  \n",
      "     |  ----------------------------------------------------------------------\n",
      "     |  Data descriptors defined here:\n",
      "     |  \n",
      "     |  filename\n",
      "     |      Alias for field number 0\n",
      "     |  \n",
      "     |  lineno\n",
      "     |      Alias for field number 1\n",
      "     |  \n",
      "     |  function\n",
      "     |      Alias for field number 2\n",
      "     |  \n",
      "     |  code_context\n",
      "     |      Alias for field number 3\n",
      "     |  \n",
      "     |  index\n",
      "     |      Alias for field number 4\n",
      "     |  \n",
      "     |  ----------------------------------------------------------------------\n",
      "     |  Data and other attributes defined here:\n",
      "     |  \n",
      "     |  _field_defaults = {}\n",
      "     |  \n",
      "     |  _fields = ('filename', 'lineno', 'function', 'code_context', 'index')\n",
      "     |  \n",
      "     |  _fields_defaults = {}\n",
      "     |  \n",
      "     |  ----------------------------------------------------------------------\n",
      "     |  Methods inherited from builtins.tuple:\n",
      "     |  \n",
      "     |  __add__(self, value, /)\n",
      "     |      Return self+value.\n",
      "     |  \n",
      "     |  __contains__(self, key, /)\n",
      "     |      Return key in self.\n",
      "     |  \n",
      "     |  __eq__(self, value, /)\n",
      "     |      Return self==value.\n",
      "     |  \n",
      "     |  __ge__(self, value, /)\n",
      "     |      Return self>=value.\n",
      "     |  \n",
      "     |  __getattribute__(self, name, /)\n",
      "     |      Return getattr(self, name).\n",
      "     |  \n",
      "     |  __getitem__(self, key, /)\n",
      "     |      Return self[key].\n",
      "     |  \n",
      "     |  __gt__(self, value, /)\n",
      "     |      Return self>value.\n",
      "     |  \n",
      "     |  __hash__(self, /)\n",
      "     |      Return hash(self).\n",
      "     |  \n",
      "     |  __iter__(self, /)\n",
      "     |      Implement iter(self).\n",
      "     |  \n",
      "     |  __le__(self, value, /)\n",
      "     |      Return self<=value.\n",
      "     |  \n",
      "     |  __len__(self, /)\n",
      "     |      Return len(self).\n",
      "     |  \n",
      "     |  __lt__(self, value, /)\n",
      "     |      Return self<value.\n",
      "     |  \n",
      "     |  __mul__(self, value, /)\n",
      "     |      Return self*value.\n",
      "     |  \n",
      "     |  __ne__(self, value, /)\n",
      "     |      Return self!=value.\n",
      "     |  \n",
      "     |  __rmul__(self, value, /)\n",
      "     |      Return value*self.\n",
      "     |  \n",
      "     |  count(self, value, /)\n",
      "     |      Return number of occurrences of value.\n",
      "\n",
      "FUNCTIONS\n",
      "    classify_class_attrs(cls)\n",
      "        Return list of attribute-descriptor tuples.\n",
      "        \n",
      "        For each name in dir(cls), the return list contains a 4-tuple\n",
      "        with these elements:\n",
      "        \n",
      "            0. The name (a string).\n",
      "        \n",
      "            1. The kind of attribute this is, one of these strings:\n",
      "                   'class method'    created via classmethod()\n",
      "                   'static method'   created via staticmethod()\n",
      "                   'property'        created via property()\n",
      "                   'method'          any other flavor of method or descriptor\n",
      "                   'data'            not a method\n",
      "        \n",
      "            2. The class which defined this attribute (a class).\n",
      "        \n",
      "            3. The object as obtained by calling getattr; if this fails, or if the\n",
      "               resulting object does not live anywhere in the class' mro (including\n",
      "               metaclasses) then the object is looked up in the defining class's\n",
      "               dict (found by walking the mro).\n",
      "        \n",
      "        If one of the items in dir(cls) is stored in the metaclass it will now\n",
      "        be discovered and not have None be listed as the class in which it was\n",
      "        defined.  Any items whose home class cannot be discovered are skipped.\n",
      "    \n",
      "    cleandoc(doc)\n",
      "        Clean up indentation from docstrings.\n",
      "        \n",
      "        Any whitespace that can be uniformly removed from the second line\n",
      "        onwards is removed.\n",
      "    \n",
      "    currentframe()\n",
      "        Return the frame of the caller or None if this is not possible.\n",
      "    \n",
      "    findsource(object)\n",
      "        Return the entire source file and starting line number for an object.\n",
      "        \n",
      "        The argument may be a module, class, method, function, traceback, frame,\n",
      "        or code object.  The source code is returned as a list of all the lines\n",
      "        in the file and the line number indexes a line in that list.  An OSError\n",
      "        is raised if the source code cannot be retrieved.\n",
      "    \n",
      "    formatannotation(annotation, base_module=None)\n",
      "    \n",
      "    formatannotationrelativeto(object)\n",
      "    \n",
      "    formatargspec(args, varargs=None, varkw=None, defaults=None, kwonlyargs=(), kwonlydefaults={}, annotations={}, formatarg=<class 'str'>, formatvarargs=<function <lambda> at 0x7fb41995add0>, formatvarkw=<function <lambda> at 0x7fb41995ae60>, formatvalue=<function <lambda> at 0x7fb41995aef0>, formatreturns=<function <lambda> at 0x7fb41995af80>, formatannotation=<function formatannotation at 0x7fb41995acb0>)\n",
      "        Format an argument spec from the values returned by getfullargspec.\n",
      "        \n",
      "        The first seven arguments are (args, varargs, varkw, defaults,\n",
      "        kwonlyargs, kwonlydefaults, annotations).  The other five arguments\n",
      "        are the corresponding optional formatting functions that are called to\n",
      "        turn names and values into strings.  The last argument is an optional\n",
      "        function to format the sequence of arguments.\n",
      "        \n",
      "        Deprecated since Python 3.5: use the `signature` function and `Signature`\n",
      "        objects.\n",
      "    \n",
      "    formatargvalues(args, varargs, varkw, locals, formatarg=<class 'str'>, formatvarargs=<function <lambda> at 0x7fb41995d0e0>, formatvarkw=<function <lambda> at 0x7fb41995d170>, formatvalue=<function <lambda> at 0x7fb41995d200>)\n",
      "        Format an argument spec from the 4 values returned by getargvalues.\n",
      "        \n",
      "        The first four arguments are (args, varargs, varkw, locals).  The\n",
      "        next four arguments are the corresponding optional formatting functions\n",
      "        that are called to turn names and values into strings.  The ninth\n",
      "        argument is an optional function to format the sequence of arguments.\n",
      "    \n",
      "    getabsfile(object, _filename=None)\n",
      "        Return an absolute path to the source or compiled file for an object.\n",
      "        \n",
      "        The idea is for each object to have a unique origin, so this routine\n",
      "        normalizes the result as much as possible.\n",
      "    \n",
      "    getargs(co)\n",
      "        Get information about the arguments accepted by a code object.\n",
      "        \n",
      "        Three things are returned: (args, varargs, varkw), where\n",
      "        'args' is the list of argument names. Keyword-only arguments are\n",
      "        appended. 'varargs' and 'varkw' are the names of the * and **\n",
      "        arguments or None.\n",
      "    \n",
      "    getargspec(func)\n",
      "        Get the names and default values of a function's parameters.\n",
      "        \n",
      "        A tuple of four things is returned: (args, varargs, keywords, defaults).\n",
      "        'args' is a list of the argument names, including keyword-only argument names.\n",
      "        'varargs' and 'keywords' are the names of the * and ** parameters or None.\n",
      "        'defaults' is an n-tuple of the default values of the last n parameters.\n",
      "        \n",
      "        This function is deprecated, as it does not support annotations or\n",
      "        keyword-only parameters and will raise ValueError if either is present\n",
      "        on the supplied callable.\n",
      "        \n",
      "        For a more structured introspection API, use inspect.signature() instead.\n",
      "        \n",
      "        Alternatively, use getfullargspec() for an API with a similar namedtuple\n",
      "        based interface, but full support for annotations and keyword-only\n",
      "        parameters.\n",
      "        \n",
      "        Deprecated since Python 3.5, use `inspect.getfullargspec()`.\n",
      "    \n",
      "    getargvalues(frame)\n",
      "        Get information about arguments passed into a particular frame.\n",
      "        \n",
      "        A tuple of four things is returned: (args, varargs, varkw, locals).\n",
      "        'args' is a list of the argument names.\n",
      "        'varargs' and 'varkw' are the names of the * and ** arguments or None.\n",
      "        'locals' is the locals dictionary of the given frame.\n",
      "    \n",
      "    getattr_static(obj, attr, default=<object object at 0x7fb414d74f90>)\n",
      "        Retrieve attributes without triggering dynamic lookup via the\n",
      "        descriptor protocol,  __getattr__ or __getattribute__.\n",
      "        \n",
      "        Note: this function may not be able to retrieve all attributes\n",
      "        that getattr can fetch (like dynamically created attributes)\n",
      "        and may find attributes that getattr can't (like descriptors\n",
      "        that raise AttributeError). It can also return descriptor objects\n",
      "        instead of instance members in some cases. See the\n",
      "        documentation for details.\n",
      "    \n",
      "    getblock(lines)\n",
      "        Extract the block of code at the top of the given list of lines.\n",
      "    \n",
      "    getcallargs(*func_and_positional, **named)\n",
      "        Get the mapping of arguments to values.\n",
      "        \n",
      "        A dict is returned, with keys the function argument names (including the\n",
      "        names of the * and ** arguments, if any), and values the respective bound\n",
      "        values from 'positional' and 'named'.\n",
      "    \n",
      "    getclasstree(classes, unique=False)\n",
      "        Arrange the given list of classes into a hierarchy of nested lists.\n",
      "        \n",
      "        Where a nested list appears, it contains classes derived from the class\n",
      "        whose entry immediately precedes the list.  Each entry is a 2-tuple\n",
      "        containing a class and a tuple of its base classes.  If the 'unique'\n",
      "        argument is true, exactly one entry appears in the returned structure\n",
      "        for each class in the given list.  Otherwise, classes using multiple\n",
      "        inheritance and their descendants will appear multiple times.\n",
      "    \n",
      "    getclosurevars(func)\n",
      "        Get the mapping of free variables to their current values.\n",
      "        \n",
      "        Returns a named tuple of dicts mapping the current nonlocal, global\n",
      "        and builtin references as seen by the body of the function. A final\n",
      "        set of unbound names that could not be resolved is also provided.\n",
      "    \n",
      "    getcomments(object)\n",
      "        Get lines of comments immediately preceding an object's source code.\n",
      "        \n",
      "        Returns None when source can't be found.\n",
      "    \n",
      "    getcoroutinelocals(coroutine)\n",
      "        Get the mapping of coroutine local variables to their current values.\n",
      "        \n",
      "        A dict is returned, with the keys the local variable names and values the\n",
      "        bound values.\n",
      "    \n",
      "    getcoroutinestate(coroutine)\n",
      "        Get current state of a coroutine object.\n",
      "        \n",
      "        Possible states are:\n",
      "          CORO_CREATED: Waiting to start execution.\n",
      "          CORO_RUNNING: Currently being executed by the interpreter.\n",
      "          CORO_SUSPENDED: Currently suspended at an await expression.\n",
      "          CORO_CLOSED: Execution has completed.\n",
      "    \n",
      "    getdoc(object)\n",
      "        Get the documentation string for an object.\n",
      "        \n",
      "        All tabs are expanded to spaces.  To clean up docstrings that are\n",
      "        indented to line up with blocks of code, any whitespace than can be\n",
      "        uniformly removed from the second line onwards is removed.\n",
      "    \n",
      "    getfile(object)\n",
      "        Work out which source or compiled file an object was defined in.\n",
      "    \n",
      "    getframeinfo(frame, context=1)\n",
      "        Get information about a frame or traceback object.\n",
      "        \n",
      "        A tuple of five things is returned: the filename, the line number of\n",
      "        the current line, the function name, a list of lines of context from\n",
      "        the source code, and the index of the current line within that list.\n",
      "        The optional second argument specifies the number of lines of context\n",
      "        to return, which are centered around the current line.\n",
      "    \n",
      "    getfullargspec(func)\n",
      "        Get the names and default values of a callable object's parameters.\n",
      "        \n",
      "        A tuple of seven things is returned:\n",
      "        (args, varargs, varkw, defaults, kwonlyargs, kwonlydefaults, annotations).\n",
      "        'args' is a list of the parameter names.\n",
      "        'varargs' and 'varkw' are the names of the * and ** parameters or None.\n",
      "        'defaults' is an n-tuple of the default values of the last n parameters.\n",
      "        'kwonlyargs' is a list of keyword-only parameter names.\n",
      "        'kwonlydefaults' is a dictionary mapping names from kwonlyargs to defaults.\n",
      "        'annotations' is a dictionary mapping parameter names to annotations.\n",
      "        \n",
      "        Notable differences from inspect.signature():\n",
      "          - the \"self\" parameter is always reported, even for bound methods\n",
      "          - wrapper chains defined by __wrapped__ *not* unwrapped automatically\n",
      "    \n",
      "    getgeneratorlocals(generator)\n",
      "        Get the mapping of generator local variables to their current values.\n",
      "        \n",
      "        A dict is returned, with the keys the local variable names and values the\n",
      "        bound values.\n",
      "    \n",
      "    getgeneratorstate(generator)\n",
      "        Get current state of a generator-iterator.\n",
      "        \n",
      "        Possible states are:\n",
      "          GEN_CREATED: Waiting to start execution.\n",
      "          GEN_RUNNING: Currently being executed by the interpreter.\n",
      "          GEN_SUSPENDED: Currently suspended at a yield expression.\n",
      "          GEN_CLOSED: Execution has completed.\n",
      "    \n",
      "    getinnerframes(tb, context=1)\n",
      "        Get a list of records for a traceback's frame and all lower frames.\n",
      "        \n",
      "        Each record contains a frame object, filename, line number, function\n",
      "        name, a list of lines of context, and index within the context.\n",
      "    \n",
      "    getlineno(frame)\n",
      "        Get the line number from a frame object, allowing for optimization.\n",
      "    \n",
      "    getmembers(object, predicate=None)\n",
      "        Return all members of an object as (name, value) pairs sorted by name.\n",
      "        Optionally, only return members that satisfy a given predicate.\n",
      "    \n",
      "    getmodule(object, _filename=None)\n",
      "        Return the module an object was defined in, or None if not found.\n",
      "    \n",
      "    getmodulename(path)\n",
      "        Return the module name for a given file, or None.\n",
      "    \n",
      "    getmro(cls)\n",
      "        Return tuple of base classes (including cls) in method resolution order.\n",
      "    \n",
      "    getouterframes(frame, context=1)\n",
      "        Get a list of records for a frame and all higher (calling) frames.\n",
      "        \n",
      "        Each record contains a frame object, filename, line number, function\n",
      "        name, a list of lines of context, and index within the context.\n",
      "    \n",
      "    getsource(object)\n",
      "        Return the text of the source code for an object.\n",
      "        \n",
      "        The argument may be a module, class, method, function, traceback, frame,\n",
      "        or code object.  The source code is returned as a single string.  An\n",
      "        OSError is raised if the source code cannot be retrieved.\n",
      "    \n",
      "    getsourcefile(object)\n",
      "        Return the filename that can be used to locate an object's source.\n",
      "        Return None if no way can be identified to get the source.\n",
      "    \n",
      "    getsourcelines(object)\n",
      "        Return a list of source lines and starting line number for an object.\n",
      "        \n",
      "        The argument may be a module, class, method, function, traceback, frame,\n",
      "        or code object.  The source code is returned as a list of the lines\n",
      "        corresponding to the object and the line number indicates where in the\n",
      "        original source file the first line of code was found.  An OSError is\n",
      "        raised if the source code cannot be retrieved.\n",
      "    \n",
      "    indentsize(line)\n",
      "        Return the indent size, in spaces, at the start of a line of text.\n",
      "    \n",
      "    isabstract(object)\n",
      "        Return true if the object is an abstract base class (ABC).\n",
      "    \n",
      "    isasyncgen(object)\n",
      "        Return true if the object is an asynchronous generator.\n",
      "    \n",
      "    isasyncgenfunction(object)\n",
      "        Return true if the object is an asynchronous generator function.\n",
      "        \n",
      "        Asynchronous generator functions are defined with \"async def\"\n",
      "        syntax and have \"yield\" expressions in their body.\n",
      "    \n",
      "    isawaitable(object)\n",
      "        Return true if object can be passed to an ``await`` expression.\n",
      "    \n",
      "    isbuiltin(object)\n",
      "        Return true if the object is a built-in function or method.\n",
      "        \n",
      "        Built-in functions and methods provide these attributes:\n",
      "            __doc__         documentation string\n",
      "            __name__        original name of this function or method\n",
      "            __self__        instance to which a method is bound, or None\n",
      "    \n",
      "    isclass(object)\n",
      "        Return true if the object is a class.\n",
      "        \n",
      "        Class objects provide these attributes:\n",
      "            __doc__         documentation string\n",
      "            __module__      name of module in which this class was defined\n",
      "    \n",
      "    iscode(object)\n",
      "        Return true if the object is a code object.\n",
      "        \n",
      "        Code objects provide these attributes:\n",
      "            co_argcount         number of arguments (not including *, ** args\n",
      "                                or keyword only arguments)\n",
      "            co_code             string of raw compiled bytecode\n",
      "            co_cellvars         tuple of names of cell variables\n",
      "            co_consts           tuple of constants used in the bytecode\n",
      "            co_filename         name of file in which this code object was created\n",
      "            co_firstlineno      number of first line in Python source code\n",
      "            co_flags            bitmap: 1=optimized | 2=newlocals | 4=*arg | 8=**arg\n",
      "                                | 16=nested | 32=generator | 64=nofree | 128=coroutine\n",
      "                                | 256=iterable_coroutine | 512=async_generator\n",
      "            co_freevars         tuple of names of free variables\n",
      "            co_kwonlyargcount   number of keyword only arguments (not including ** arg)\n",
      "            co_lnotab           encoded mapping of line numbers to bytecode indices\n",
      "            co_name             name with which this code object was defined\n",
      "            co_names            tuple of names of local variables\n",
      "            co_nlocals          number of local variables\n",
      "            co_stacksize        virtual machine stack space required\n",
      "            co_varnames         tuple of names of arguments and local variables\n",
      "    \n",
      "    iscoroutine(object)\n",
      "        Return true if the object is a coroutine.\n",
      "    \n",
      "    iscoroutinefunction(object)\n",
      "        Return true if the object is a coroutine function.\n",
      "        \n",
      "        Coroutine functions are defined with \"async def\" syntax.\n",
      "    \n",
      "    isdatadescriptor(object)\n",
      "        Return true if the object is a data descriptor.\n",
      "        \n",
      "        Data descriptors have both a __get__ and a __set__ attribute.  Examples are\n",
      "        properties (defined in Python) and getsets and members (defined in C).\n",
      "        Typically, data descriptors will also have __name__ and __doc__ attributes\n",
      "        (properties, getsets, and members have both of these attributes), but this\n",
      "        is not guaranteed.\n",
      "    \n",
      "    isframe(object)\n",
      "        Return true if the object is a frame object.\n",
      "        \n",
      "        Frame objects provide these attributes:\n",
      "            f_back          next outer frame object (this frame's caller)\n",
      "            f_builtins      built-in namespace seen by this frame\n",
      "            f_code          code object being executed in this frame\n",
      "            f_globals       global namespace seen by this frame\n",
      "            f_lasti         index of last attempted instruction in bytecode\n",
      "            f_lineno        current line number in Python source code\n",
      "            f_locals        local namespace seen by this frame\n",
      "            f_trace         tracing function for this frame, or None\n",
      "    \n",
      "    isfunction(object)\n",
      "        Return true if the object is a user-defined function.\n",
      "        \n",
      "        Function objects provide these attributes:\n",
      "            __doc__         documentation string\n",
      "            __name__        name with which this function was defined\n",
      "            __code__        code object containing compiled function bytecode\n",
      "            __defaults__    tuple of any default values for arguments\n",
      "            __globals__     global namespace in which this function was defined\n",
      "            __annotations__ dict of parameter annotations\n",
      "            __kwdefaults__  dict of keyword only parameters with defaults\n",
      "    \n",
      "    isgenerator(object)\n",
      "        Return true if the object is a generator.\n",
      "        \n",
      "        Generator objects provide these attributes:\n",
      "            __iter__        defined to support iteration over container\n",
      "            close           raises a new GeneratorExit exception inside the\n",
      "                            generator to terminate the iteration\n",
      "            gi_code         code object\n",
      "            gi_frame        frame object or possibly None once the generator has\n",
      "                            been exhausted\n",
      "            gi_running      set to 1 when generator is executing, 0 otherwise\n",
      "            next            return the next item from the container\n",
      "            send            resumes the generator and \"sends\" a value that becomes\n",
      "                            the result of the current yield-expression\n",
      "            throw           used to raise an exception inside the generator\n",
      "    \n",
      "    isgeneratorfunction(object)\n",
      "        Return true if the object is a user-defined generator function.\n",
      "        \n",
      "        Generator function objects provide the same attributes as functions.\n",
      "        See help(isfunction) for a list of attributes.\n",
      "    \n",
      "    isgetsetdescriptor(object)\n",
      "        Return true if the object is a getset descriptor.\n",
      "        \n",
      "        getset descriptors are specialized descriptors defined in extension\n",
      "        modules.\n",
      "    \n",
      "    ismemberdescriptor(object)\n",
      "        Return true if the object is a member descriptor.\n",
      "        \n",
      "        Member descriptors are specialized descriptors defined in extension\n",
      "        modules.\n",
      "    \n",
      "    ismethod(object)\n",
      "        Return true if the object is an instance method.\n",
      "        \n",
      "        Instance method objects provide these attributes:\n",
      "            __doc__         documentation string\n",
      "            __name__        name with which this method was defined\n",
      "            __func__        function object containing implementation of method\n",
      "            __self__        instance to which this method is bound\n",
      "    \n",
      "    ismethoddescriptor(object)\n",
      "        Return true if the object is a method descriptor.\n",
      "        \n",
      "        But not if ismethod() or isclass() or isfunction() are true.\n",
      "        \n",
      "        This is new in Python 2.2, and, for example, is true of int.__add__.\n",
      "        An object passing this test has a __get__ attribute but not a __set__\n",
      "        attribute, but beyond that the set of attributes varies.  __name__ is\n",
      "        usually sensible, and __doc__ often is.\n",
      "        \n",
      "        Methods implemented via descriptors that also pass one of the other\n",
      "        tests return false from the ismethoddescriptor() test, simply because\n",
      "        the other tests promise more -- you can, e.g., count on having the\n",
      "        __func__ attribute (etc) when an object passes ismethod().\n",
      "    \n",
      "    ismodule(object)\n",
      "        Return true if the object is a module.\n",
      "        \n",
      "        Module objects provide these attributes:\n",
      "            __cached__      pathname to byte compiled file\n",
      "            __doc__         documentation string\n",
      "            __file__        filename (missing for built-in modules)\n",
      "    \n",
      "    isroutine(object)\n",
      "        Return true if the object is any kind of function or method.\n",
      "    \n",
      "    istraceback(object)\n",
      "        Return true if the object is a traceback.\n",
      "        \n",
      "        Traceback objects provide these attributes:\n",
      "            tb_frame        frame object at this level\n",
      "            tb_lasti        index of last attempted instruction in bytecode\n",
      "            tb_lineno       current line number in Python source code\n",
      "            tb_next         next inner traceback object (called by this level)\n",
      "    \n",
      "    signature(obj, *, follow_wrapped=True)\n",
      "        Get a signature object for the passed callable.\n",
      "    \n",
      "    stack(context=1)\n",
      "        Return a list of records for the stack above the caller's frame.\n",
      "    \n",
      "    trace(context=1)\n",
      "        Return a list of records for the stack below the current exception.\n",
      "    \n",
      "    unwrap(func, *, stop=None)\n",
      "        Get the object wrapped by *func*.\n",
      "        \n",
      "        Follows the chain of :attr:`__wrapped__` attributes returning the last\n",
      "        object in the chain.\n",
      "        \n",
      "        *stop* is an optional callback accepting an object in the wrapper chain\n",
      "        as its sole argument that allows the unwrapping to be terminated early if\n",
      "        the callback returns a true value. If the callback never returns a true\n",
      "        value, the last object in the chain is returned as usual. For example,\n",
      "        :func:`signature` uses this to stop unwrapping if any object in the\n",
      "        chain has a ``__signature__`` attribute defined.\n",
      "        \n",
      "        :exc:`ValueError` is raised if a cycle is encountered.\n",
      "    \n",
      "    walktree(classes, children, parent)\n",
      "        Recursive helper function for getclasstree().\n",
      "\n",
      "DATA\n",
      "    CORO_CLOSED = 'CORO_CLOSED'\n",
      "    CORO_CREATED = 'CORO_CREATED'\n",
      "    CORO_RUNNING = 'CORO_RUNNING'\n",
      "    CORO_SUSPENDED = 'CORO_SUSPENDED'\n",
      "    CO_ASYNC_GENERATOR = 512\n",
      "    CO_COROUTINE = 128\n",
      "    CO_GENERATOR = 32\n",
      "    CO_ITERABLE_COROUTINE = 256\n",
      "    CO_NESTED = 16\n",
      "    CO_NEWLOCALS = 2\n",
      "    CO_NOFREE = 64\n",
      "    CO_OPTIMIZED = 1\n",
      "    CO_VARARGS = 4\n",
      "    CO_VARKEYWORDS = 8\n",
      "    GEN_CLOSED = 'GEN_CLOSED'\n",
      "    GEN_CREATED = 'GEN_CREATED'\n",
      "    GEN_RUNNING = 'GEN_RUNNING'\n",
      "    GEN_SUSPENDED = 'GEN_SUSPENDED'\n",
      "    TPFLAGS_IS_ABSTRACT = 1048576\n",
      "    k = 512\n",
      "    mod_dict = {'ArgInfo': <class 'inspect.ArgInfo'>, 'ArgSpec': <class 'i...\n",
      "    modulesbyfile = {'/Users/shobhit/opt/anaconda3/lib/python3.7/__future_...\n",
      "    v = 'ASYNC_GENERATOR'\n",
      "\n",
      "AUTHOR\n",
      "    ('Ka-Ping Yee <ping@lfw.org>', 'Yury Selivanov <yselivanov@sprymix.com>')\n",
      "\n",
      "FILE\n",
      "    /Users/shobhit/opt/anaconda3/lib/python3.7/inspect.py\n",
      "\n",
      "\n"
     ]
    }
   ],
   "source": [
    "help(inspect)"
   ]
  },
  {
   "cell_type": "code",
   "execution_count": 126,
   "metadata": {},
   "outputs": [
    {
     "ename": "TypeError",
     "evalue": "module, class, method, function, traceback, frame, or code object was expected, got builtin_function_or_method",
     "output_type": "error",
     "traceback": [
      "\u001b[0;31m---------------------------------------------------------------------------\u001b[0m",
      "\u001b[0;31mTypeError\u001b[0m                                 Traceback (most recent call last)",
      "\u001b[0;32m<ipython-input-126-d7c20cf42e46>\u001b[0m in \u001b[0;36m<module>\u001b[0;34m\u001b[0m\n\u001b[0;32m----> 1\u001b[0;31m \u001b[0minspect\u001b[0m\u001b[0;34m.\u001b[0m\u001b[0mgetsource\u001b[0m\u001b[0;34m(\u001b[0m\u001b[0mlen\u001b[0m\u001b[0;34m)\u001b[0m\u001b[0;34m\u001b[0m\u001b[0;34m\u001b[0m\u001b[0m\n\u001b[0m",
      "\u001b[0;32m~/opt/anaconda3/lib/python3.7/inspect.py\u001b[0m in \u001b[0;36mgetsource\u001b[0;34m(object)\u001b[0m\n\u001b[1;32m    971\u001b[0m     \u001b[0;32mor\u001b[0m \u001b[0mcode\u001b[0m \u001b[0mobject\u001b[0m\u001b[0;34m.\u001b[0m  \u001b[0mThe\u001b[0m \u001b[0msource\u001b[0m \u001b[0mcode\u001b[0m \u001b[0;32mis\u001b[0m \u001b[0mreturned\u001b[0m \u001b[0;32mas\u001b[0m \u001b[0ma\u001b[0m \u001b[0msingle\u001b[0m \u001b[0mstring\u001b[0m\u001b[0;34m.\u001b[0m  \u001b[0mAn\u001b[0m\u001b[0;34m\u001b[0m\u001b[0;34m\u001b[0m\u001b[0m\n\u001b[1;32m    972\u001b[0m     OSError is raised if the source code cannot be retrieved.\"\"\"\n\u001b[0;32m--> 973\u001b[0;31m     \u001b[0mlines\u001b[0m\u001b[0;34m,\u001b[0m \u001b[0mlnum\u001b[0m \u001b[0;34m=\u001b[0m \u001b[0mgetsourcelines\u001b[0m\u001b[0;34m(\u001b[0m\u001b[0mobject\u001b[0m\u001b[0;34m)\u001b[0m\u001b[0;34m\u001b[0m\u001b[0;34m\u001b[0m\u001b[0m\n\u001b[0m\u001b[1;32m    974\u001b[0m     \u001b[0;32mreturn\u001b[0m \u001b[0;34m''\u001b[0m\u001b[0;34m.\u001b[0m\u001b[0mjoin\u001b[0m\u001b[0;34m(\u001b[0m\u001b[0mlines\u001b[0m\u001b[0;34m)\u001b[0m\u001b[0;34m\u001b[0m\u001b[0;34m\u001b[0m\u001b[0m\n\u001b[1;32m    975\u001b[0m \u001b[0;34m\u001b[0m\u001b[0m\n",
      "\u001b[0;32m~/opt/anaconda3/lib/python3.7/inspect.py\u001b[0m in \u001b[0;36mgetsourcelines\u001b[0;34m(object)\u001b[0m\n\u001b[1;32m    953\u001b[0m     raised if the source code cannot be retrieved.\"\"\"\n\u001b[1;32m    954\u001b[0m     \u001b[0mobject\u001b[0m \u001b[0;34m=\u001b[0m \u001b[0munwrap\u001b[0m\u001b[0;34m(\u001b[0m\u001b[0mobject\u001b[0m\u001b[0;34m)\u001b[0m\u001b[0;34m\u001b[0m\u001b[0;34m\u001b[0m\u001b[0m\n\u001b[0;32m--> 955\u001b[0;31m     \u001b[0mlines\u001b[0m\u001b[0;34m,\u001b[0m \u001b[0mlnum\u001b[0m \u001b[0;34m=\u001b[0m \u001b[0mfindsource\u001b[0m\u001b[0;34m(\u001b[0m\u001b[0mobject\u001b[0m\u001b[0;34m)\u001b[0m\u001b[0;34m\u001b[0m\u001b[0;34m\u001b[0m\u001b[0m\n\u001b[0m\u001b[1;32m    956\u001b[0m \u001b[0;34m\u001b[0m\u001b[0m\n\u001b[1;32m    957\u001b[0m     \u001b[0;32mif\u001b[0m \u001b[0mistraceback\u001b[0m\u001b[0;34m(\u001b[0m\u001b[0mobject\u001b[0m\u001b[0;34m)\u001b[0m\u001b[0;34m:\u001b[0m\u001b[0;34m\u001b[0m\u001b[0;34m\u001b[0m\u001b[0m\n",
      "\u001b[0;32m~/opt/anaconda3/lib/python3.7/inspect.py\u001b[0m in \u001b[0;36mfindsource\u001b[0;34m(object)\u001b[0m\n\u001b[1;32m    766\u001b[0m     is raised if the source code cannot be retrieved.\"\"\"\n\u001b[1;32m    767\u001b[0m \u001b[0;34m\u001b[0m\u001b[0m\n\u001b[0;32m--> 768\u001b[0;31m     \u001b[0mfile\u001b[0m \u001b[0;34m=\u001b[0m \u001b[0mgetsourcefile\u001b[0m\u001b[0;34m(\u001b[0m\u001b[0mobject\u001b[0m\u001b[0;34m)\u001b[0m\u001b[0;34m\u001b[0m\u001b[0;34m\u001b[0m\u001b[0m\n\u001b[0m\u001b[1;32m    769\u001b[0m     \u001b[0;32mif\u001b[0m \u001b[0mfile\u001b[0m\u001b[0;34m:\u001b[0m\u001b[0;34m\u001b[0m\u001b[0;34m\u001b[0m\u001b[0m\n\u001b[1;32m    770\u001b[0m         \u001b[0;31m# Invalidate cache if needed.\u001b[0m\u001b[0;34m\u001b[0m\u001b[0;34m\u001b[0m\u001b[0;34m\u001b[0m\u001b[0m\n",
      "\u001b[0;32m~/opt/anaconda3/lib/python3.7/inspect.py\u001b[0m in \u001b[0;36mgetsourcefile\u001b[0;34m(object)\u001b[0m\n\u001b[1;32m    682\u001b[0m     \u001b[0mReturn\u001b[0m \u001b[0;32mNone\u001b[0m \u001b[0;32mif\u001b[0m \u001b[0mno\u001b[0m \u001b[0mway\u001b[0m \u001b[0mcan\u001b[0m \u001b[0mbe\u001b[0m \u001b[0midentified\u001b[0m \u001b[0mto\u001b[0m \u001b[0mget\u001b[0m \u001b[0mthe\u001b[0m \u001b[0msource\u001b[0m\u001b[0;34m.\u001b[0m\u001b[0;34m\u001b[0m\u001b[0;34m\u001b[0m\u001b[0m\n\u001b[1;32m    683\u001b[0m     \"\"\"\n\u001b[0;32m--> 684\u001b[0;31m     \u001b[0mfilename\u001b[0m \u001b[0;34m=\u001b[0m \u001b[0mgetfile\u001b[0m\u001b[0;34m(\u001b[0m\u001b[0mobject\u001b[0m\u001b[0;34m)\u001b[0m\u001b[0;34m\u001b[0m\u001b[0;34m\u001b[0m\u001b[0m\n\u001b[0m\u001b[1;32m    685\u001b[0m     \u001b[0mall_bytecode_suffixes\u001b[0m \u001b[0;34m=\u001b[0m \u001b[0mimportlib\u001b[0m\u001b[0;34m.\u001b[0m\u001b[0mmachinery\u001b[0m\u001b[0;34m.\u001b[0m\u001b[0mDEBUG_BYTECODE_SUFFIXES\u001b[0m\u001b[0;34m[\u001b[0m\u001b[0;34m:\u001b[0m\u001b[0;34m]\u001b[0m\u001b[0;34m\u001b[0m\u001b[0;34m\u001b[0m\u001b[0m\n\u001b[1;32m    686\u001b[0m     \u001b[0mall_bytecode_suffixes\u001b[0m \u001b[0;34m+=\u001b[0m \u001b[0mimportlib\u001b[0m\u001b[0;34m.\u001b[0m\u001b[0mmachinery\u001b[0m\u001b[0;34m.\u001b[0m\u001b[0mOPTIMIZED_BYTECODE_SUFFIXES\u001b[0m\u001b[0;34m[\u001b[0m\u001b[0;34m:\u001b[0m\u001b[0;34m]\u001b[0m\u001b[0;34m\u001b[0m\u001b[0;34m\u001b[0m\u001b[0m\n",
      "\u001b[0;32m~/opt/anaconda3/lib/python3.7/inspect.py\u001b[0m in \u001b[0;36mgetfile\u001b[0;34m(object)\u001b[0m\n\u001b[1;32m    664\u001b[0m     raise TypeError('module, class, method, function, traceback, frame, or '\n\u001b[1;32m    665\u001b[0m                     'code object was expected, got {}'.format(\n\u001b[0;32m--> 666\u001b[0;31m                     type(object).__name__))\n\u001b[0m\u001b[1;32m    667\u001b[0m \u001b[0;34m\u001b[0m\u001b[0m\n\u001b[1;32m    668\u001b[0m \u001b[0;32mdef\u001b[0m \u001b[0mgetmodulename\u001b[0m\u001b[0;34m(\u001b[0m\u001b[0mpath\u001b[0m\u001b[0;34m)\u001b[0m\u001b[0;34m:\u001b[0m\u001b[0;34m\u001b[0m\u001b[0;34m\u001b[0m\u001b[0m\n",
      "\u001b[0;31mTypeError\u001b[0m: module, class, method, function, traceback, frame, or code object was expected, got builtin_function_or_method"
     ]
    }
   ],
   "source": [
    "inspect.getsource(len)"
   ]
  },
  {
   "cell_type": "code",
   "execution_count": 127,
   "metadata": {},
   "outputs": [],
   "source": [
    "def funca(la, lb):\n",
    "    lc = la+lb\n",
    "    return lc"
   ]
  },
  {
   "cell_type": "code",
   "execution_count": 128,
   "metadata": {},
   "outputs": [
    {
     "data": {
      "text/plain": [
       "'def funca(la, lb):\\n    lc = la+lb\\n    return lc\\n'"
      ]
     },
     "execution_count": 128,
     "metadata": {},
     "output_type": "execute_result"
    }
   ],
   "source": [
    "inspect.getsource(funca)"
   ]
  },
  {
   "cell_type": "code",
   "execution_count": 129,
   "metadata": {},
   "outputs": [],
   "source": [
    "import time"
   ]
  },
  {
   "cell_type": "code",
   "execution_count": 130,
   "metadata": {},
   "outputs": [
    {
     "ename": "TypeError",
     "evalue": "<module 'time' (built-in)> is a built-in module",
     "output_type": "error",
     "traceback": [
      "\u001b[0;31m---------------------------------------------------------------------------\u001b[0m",
      "\u001b[0;31mTypeError\u001b[0m                                 Traceback (most recent call last)",
      "\u001b[0;32m<ipython-input-130-6c5236ac4f2e>\u001b[0m in \u001b[0;36m<module>\u001b[0;34m\u001b[0m\n\u001b[0;32m----> 1\u001b[0;31m \u001b[0minspect\u001b[0m\u001b[0;34m.\u001b[0m\u001b[0mgetsource\u001b[0m\u001b[0;34m(\u001b[0m\u001b[0mtime\u001b[0m\u001b[0;34m)\u001b[0m\u001b[0;34m\u001b[0m\u001b[0;34m\u001b[0m\u001b[0m\n\u001b[0m",
      "\u001b[0;32m~/opt/anaconda3/lib/python3.7/inspect.py\u001b[0m in \u001b[0;36mgetsource\u001b[0;34m(object)\u001b[0m\n\u001b[1;32m    971\u001b[0m     \u001b[0;32mor\u001b[0m \u001b[0mcode\u001b[0m \u001b[0mobject\u001b[0m\u001b[0;34m.\u001b[0m  \u001b[0mThe\u001b[0m \u001b[0msource\u001b[0m \u001b[0mcode\u001b[0m \u001b[0;32mis\u001b[0m \u001b[0mreturned\u001b[0m \u001b[0;32mas\u001b[0m \u001b[0ma\u001b[0m \u001b[0msingle\u001b[0m \u001b[0mstring\u001b[0m\u001b[0;34m.\u001b[0m  \u001b[0mAn\u001b[0m\u001b[0;34m\u001b[0m\u001b[0;34m\u001b[0m\u001b[0m\n\u001b[1;32m    972\u001b[0m     OSError is raised if the source code cannot be retrieved.\"\"\"\n\u001b[0;32m--> 973\u001b[0;31m     \u001b[0mlines\u001b[0m\u001b[0;34m,\u001b[0m \u001b[0mlnum\u001b[0m \u001b[0;34m=\u001b[0m \u001b[0mgetsourcelines\u001b[0m\u001b[0;34m(\u001b[0m\u001b[0mobject\u001b[0m\u001b[0;34m)\u001b[0m\u001b[0;34m\u001b[0m\u001b[0;34m\u001b[0m\u001b[0m\n\u001b[0m\u001b[1;32m    974\u001b[0m     \u001b[0;32mreturn\u001b[0m \u001b[0;34m''\u001b[0m\u001b[0;34m.\u001b[0m\u001b[0mjoin\u001b[0m\u001b[0;34m(\u001b[0m\u001b[0mlines\u001b[0m\u001b[0;34m)\u001b[0m\u001b[0;34m\u001b[0m\u001b[0;34m\u001b[0m\u001b[0m\n\u001b[1;32m    975\u001b[0m \u001b[0;34m\u001b[0m\u001b[0m\n",
      "\u001b[0;32m~/opt/anaconda3/lib/python3.7/inspect.py\u001b[0m in \u001b[0;36mgetsourcelines\u001b[0;34m(object)\u001b[0m\n\u001b[1;32m    953\u001b[0m     raised if the source code cannot be retrieved.\"\"\"\n\u001b[1;32m    954\u001b[0m     \u001b[0mobject\u001b[0m \u001b[0;34m=\u001b[0m \u001b[0munwrap\u001b[0m\u001b[0;34m(\u001b[0m\u001b[0mobject\u001b[0m\u001b[0;34m)\u001b[0m\u001b[0;34m\u001b[0m\u001b[0;34m\u001b[0m\u001b[0m\n\u001b[0;32m--> 955\u001b[0;31m     \u001b[0mlines\u001b[0m\u001b[0;34m,\u001b[0m \u001b[0mlnum\u001b[0m \u001b[0;34m=\u001b[0m \u001b[0mfindsource\u001b[0m\u001b[0;34m(\u001b[0m\u001b[0mobject\u001b[0m\u001b[0;34m)\u001b[0m\u001b[0;34m\u001b[0m\u001b[0;34m\u001b[0m\u001b[0m\n\u001b[0m\u001b[1;32m    956\u001b[0m \u001b[0;34m\u001b[0m\u001b[0m\n\u001b[1;32m    957\u001b[0m     \u001b[0;32mif\u001b[0m \u001b[0mistraceback\u001b[0m\u001b[0;34m(\u001b[0m\u001b[0mobject\u001b[0m\u001b[0;34m)\u001b[0m\u001b[0;34m:\u001b[0m\u001b[0;34m\u001b[0m\u001b[0;34m\u001b[0m\u001b[0m\n",
      "\u001b[0;32m~/opt/anaconda3/lib/python3.7/inspect.py\u001b[0m in \u001b[0;36mfindsource\u001b[0;34m(object)\u001b[0m\n\u001b[1;32m    766\u001b[0m     is raised if the source code cannot be retrieved.\"\"\"\n\u001b[1;32m    767\u001b[0m \u001b[0;34m\u001b[0m\u001b[0m\n\u001b[0;32m--> 768\u001b[0;31m     \u001b[0mfile\u001b[0m \u001b[0;34m=\u001b[0m \u001b[0mgetsourcefile\u001b[0m\u001b[0;34m(\u001b[0m\u001b[0mobject\u001b[0m\u001b[0;34m)\u001b[0m\u001b[0;34m\u001b[0m\u001b[0;34m\u001b[0m\u001b[0m\n\u001b[0m\u001b[1;32m    769\u001b[0m     \u001b[0;32mif\u001b[0m \u001b[0mfile\u001b[0m\u001b[0;34m:\u001b[0m\u001b[0;34m\u001b[0m\u001b[0;34m\u001b[0m\u001b[0m\n\u001b[1;32m    770\u001b[0m         \u001b[0;31m# Invalidate cache if needed.\u001b[0m\u001b[0;34m\u001b[0m\u001b[0;34m\u001b[0m\u001b[0;34m\u001b[0m\u001b[0m\n",
      "\u001b[0;32m~/opt/anaconda3/lib/python3.7/inspect.py\u001b[0m in \u001b[0;36mgetsourcefile\u001b[0;34m(object)\u001b[0m\n\u001b[1;32m    682\u001b[0m     \u001b[0mReturn\u001b[0m \u001b[0;32mNone\u001b[0m \u001b[0;32mif\u001b[0m \u001b[0mno\u001b[0m \u001b[0mway\u001b[0m \u001b[0mcan\u001b[0m \u001b[0mbe\u001b[0m \u001b[0midentified\u001b[0m \u001b[0mto\u001b[0m \u001b[0mget\u001b[0m \u001b[0mthe\u001b[0m \u001b[0msource\u001b[0m\u001b[0;34m.\u001b[0m\u001b[0;34m\u001b[0m\u001b[0;34m\u001b[0m\u001b[0m\n\u001b[1;32m    683\u001b[0m     \"\"\"\n\u001b[0;32m--> 684\u001b[0;31m     \u001b[0mfilename\u001b[0m \u001b[0;34m=\u001b[0m \u001b[0mgetfile\u001b[0m\u001b[0;34m(\u001b[0m\u001b[0mobject\u001b[0m\u001b[0;34m)\u001b[0m\u001b[0;34m\u001b[0m\u001b[0;34m\u001b[0m\u001b[0m\n\u001b[0m\u001b[1;32m    685\u001b[0m     \u001b[0mall_bytecode_suffixes\u001b[0m \u001b[0;34m=\u001b[0m \u001b[0mimportlib\u001b[0m\u001b[0;34m.\u001b[0m\u001b[0mmachinery\u001b[0m\u001b[0;34m.\u001b[0m\u001b[0mDEBUG_BYTECODE_SUFFIXES\u001b[0m\u001b[0;34m[\u001b[0m\u001b[0;34m:\u001b[0m\u001b[0;34m]\u001b[0m\u001b[0;34m\u001b[0m\u001b[0;34m\u001b[0m\u001b[0m\n\u001b[1;32m    686\u001b[0m     \u001b[0mall_bytecode_suffixes\u001b[0m \u001b[0;34m+=\u001b[0m \u001b[0mimportlib\u001b[0m\u001b[0;34m.\u001b[0m\u001b[0mmachinery\u001b[0m\u001b[0;34m.\u001b[0m\u001b[0mOPTIMIZED_BYTECODE_SUFFIXES\u001b[0m\u001b[0;34m[\u001b[0m\u001b[0;34m:\u001b[0m\u001b[0;34m]\u001b[0m\u001b[0;34m\u001b[0m\u001b[0;34m\u001b[0m\u001b[0m\n",
      "\u001b[0;32m~/opt/anaconda3/lib/python3.7/inspect.py\u001b[0m in \u001b[0;36mgetfile\u001b[0;34m(object)\u001b[0m\n\u001b[1;32m    645\u001b[0m         \u001b[0;32mif\u001b[0m \u001b[0mgetattr\u001b[0m\u001b[0;34m(\u001b[0m\u001b[0mobject\u001b[0m\u001b[0;34m,\u001b[0m \u001b[0;34m'__file__'\u001b[0m\u001b[0;34m,\u001b[0m \u001b[0;32mNone\u001b[0m\u001b[0;34m)\u001b[0m\u001b[0;34m:\u001b[0m\u001b[0;34m\u001b[0m\u001b[0;34m\u001b[0m\u001b[0m\n\u001b[1;32m    646\u001b[0m             \u001b[0;32mreturn\u001b[0m \u001b[0mobject\u001b[0m\u001b[0;34m.\u001b[0m\u001b[0m__file__\u001b[0m\u001b[0;34m\u001b[0m\u001b[0;34m\u001b[0m\u001b[0m\n\u001b[0;32m--> 647\u001b[0;31m         \u001b[0;32mraise\u001b[0m \u001b[0mTypeError\u001b[0m\u001b[0;34m(\u001b[0m\u001b[0;34m'{!r} is a built-in module'\u001b[0m\u001b[0;34m.\u001b[0m\u001b[0mformat\u001b[0m\u001b[0;34m(\u001b[0m\u001b[0mobject\u001b[0m\u001b[0;34m)\u001b[0m\u001b[0;34m)\u001b[0m\u001b[0;34m\u001b[0m\u001b[0;34m\u001b[0m\u001b[0m\n\u001b[0m\u001b[1;32m    648\u001b[0m     \u001b[0;32mif\u001b[0m \u001b[0misclass\u001b[0m\u001b[0;34m(\u001b[0m\u001b[0mobject\u001b[0m\u001b[0;34m)\u001b[0m\u001b[0;34m:\u001b[0m\u001b[0;34m\u001b[0m\u001b[0;34m\u001b[0m\u001b[0m\n\u001b[1;32m    649\u001b[0m         \u001b[0;32mif\u001b[0m \u001b[0mhasattr\u001b[0m\u001b[0;34m(\u001b[0m\u001b[0mobject\u001b[0m\u001b[0;34m,\u001b[0m \u001b[0;34m'__module__'\u001b[0m\u001b[0;34m)\u001b[0m\u001b[0;34m:\u001b[0m\u001b[0;34m\u001b[0m\u001b[0;34m\u001b[0m\u001b[0m\n",
      "\u001b[0;31mTypeError\u001b[0m: <module 'time' (built-in)> is a built-in module"
     ]
    }
   ],
   "source": [
    "inspect.getsource(time) "
   ]
  },
  {
   "cell_type": "code",
   "execution_count": 132,
   "metadata": {},
   "outputs": [
    {
     "ename": "TypeError",
     "evalue": "module, class, method, function, traceback, frame, or code object was expected, got builtin_function_or_method",
     "output_type": "error",
     "traceback": [
      "\u001b[0;31m---------------------------------------------------------------------------\u001b[0m",
      "\u001b[0;31mTypeError\u001b[0m                                 Traceback (most recent call last)",
      "\u001b[0;32m<ipython-input-132-5c10f1e0a322>\u001b[0m in \u001b[0;36m<module>\u001b[0;34m\u001b[0m\n\u001b[0;32m----> 1\u001b[0;31m \u001b[0minspect\u001b[0m\u001b[0;34m.\u001b[0m\u001b[0mgetsourcelines\u001b[0m\u001b[0;34m(\u001b[0m\u001b[0m__builtins__\u001b[0m\u001b[0;34m.\u001b[0m\u001b[0mprint\u001b[0m\u001b[0;34m)\u001b[0m\u001b[0;34m\u001b[0m\u001b[0;34m\u001b[0m\u001b[0m\n\u001b[0m",
      "\u001b[0;32m~/opt/anaconda3/lib/python3.7/inspect.py\u001b[0m in \u001b[0;36mgetsourcelines\u001b[0;34m(object)\u001b[0m\n\u001b[1;32m    953\u001b[0m     raised if the source code cannot be retrieved.\"\"\"\n\u001b[1;32m    954\u001b[0m     \u001b[0mobject\u001b[0m \u001b[0;34m=\u001b[0m \u001b[0munwrap\u001b[0m\u001b[0;34m(\u001b[0m\u001b[0mobject\u001b[0m\u001b[0;34m)\u001b[0m\u001b[0;34m\u001b[0m\u001b[0;34m\u001b[0m\u001b[0m\n\u001b[0;32m--> 955\u001b[0;31m     \u001b[0mlines\u001b[0m\u001b[0;34m,\u001b[0m \u001b[0mlnum\u001b[0m \u001b[0;34m=\u001b[0m \u001b[0mfindsource\u001b[0m\u001b[0;34m(\u001b[0m\u001b[0mobject\u001b[0m\u001b[0;34m)\u001b[0m\u001b[0;34m\u001b[0m\u001b[0;34m\u001b[0m\u001b[0m\n\u001b[0m\u001b[1;32m    956\u001b[0m \u001b[0;34m\u001b[0m\u001b[0m\n\u001b[1;32m    957\u001b[0m     \u001b[0;32mif\u001b[0m \u001b[0mistraceback\u001b[0m\u001b[0;34m(\u001b[0m\u001b[0mobject\u001b[0m\u001b[0;34m)\u001b[0m\u001b[0;34m:\u001b[0m\u001b[0;34m\u001b[0m\u001b[0;34m\u001b[0m\u001b[0m\n",
      "\u001b[0;32m~/opt/anaconda3/lib/python3.7/inspect.py\u001b[0m in \u001b[0;36mfindsource\u001b[0;34m(object)\u001b[0m\n\u001b[1;32m    766\u001b[0m     is raised if the source code cannot be retrieved.\"\"\"\n\u001b[1;32m    767\u001b[0m \u001b[0;34m\u001b[0m\u001b[0m\n\u001b[0;32m--> 768\u001b[0;31m     \u001b[0mfile\u001b[0m \u001b[0;34m=\u001b[0m \u001b[0mgetsourcefile\u001b[0m\u001b[0;34m(\u001b[0m\u001b[0mobject\u001b[0m\u001b[0;34m)\u001b[0m\u001b[0;34m\u001b[0m\u001b[0;34m\u001b[0m\u001b[0m\n\u001b[0m\u001b[1;32m    769\u001b[0m     \u001b[0;32mif\u001b[0m \u001b[0mfile\u001b[0m\u001b[0;34m:\u001b[0m\u001b[0;34m\u001b[0m\u001b[0;34m\u001b[0m\u001b[0m\n\u001b[1;32m    770\u001b[0m         \u001b[0;31m# Invalidate cache if needed.\u001b[0m\u001b[0;34m\u001b[0m\u001b[0;34m\u001b[0m\u001b[0;34m\u001b[0m\u001b[0m\n",
      "\u001b[0;32m~/opt/anaconda3/lib/python3.7/inspect.py\u001b[0m in \u001b[0;36mgetsourcefile\u001b[0;34m(object)\u001b[0m\n\u001b[1;32m    682\u001b[0m     \u001b[0mReturn\u001b[0m \u001b[0;32mNone\u001b[0m \u001b[0;32mif\u001b[0m \u001b[0mno\u001b[0m \u001b[0mway\u001b[0m \u001b[0mcan\u001b[0m \u001b[0mbe\u001b[0m \u001b[0midentified\u001b[0m \u001b[0mto\u001b[0m \u001b[0mget\u001b[0m \u001b[0mthe\u001b[0m \u001b[0msource\u001b[0m\u001b[0;34m.\u001b[0m\u001b[0;34m\u001b[0m\u001b[0;34m\u001b[0m\u001b[0m\n\u001b[1;32m    683\u001b[0m     \"\"\"\n\u001b[0;32m--> 684\u001b[0;31m     \u001b[0mfilename\u001b[0m \u001b[0;34m=\u001b[0m \u001b[0mgetfile\u001b[0m\u001b[0;34m(\u001b[0m\u001b[0mobject\u001b[0m\u001b[0;34m)\u001b[0m\u001b[0;34m\u001b[0m\u001b[0;34m\u001b[0m\u001b[0m\n\u001b[0m\u001b[1;32m    685\u001b[0m     \u001b[0mall_bytecode_suffixes\u001b[0m \u001b[0;34m=\u001b[0m \u001b[0mimportlib\u001b[0m\u001b[0;34m.\u001b[0m\u001b[0mmachinery\u001b[0m\u001b[0;34m.\u001b[0m\u001b[0mDEBUG_BYTECODE_SUFFIXES\u001b[0m\u001b[0;34m[\u001b[0m\u001b[0;34m:\u001b[0m\u001b[0;34m]\u001b[0m\u001b[0;34m\u001b[0m\u001b[0;34m\u001b[0m\u001b[0m\n\u001b[1;32m    686\u001b[0m     \u001b[0mall_bytecode_suffixes\u001b[0m \u001b[0;34m+=\u001b[0m \u001b[0mimportlib\u001b[0m\u001b[0;34m.\u001b[0m\u001b[0mmachinery\u001b[0m\u001b[0;34m.\u001b[0m\u001b[0mOPTIMIZED_BYTECODE_SUFFIXES\u001b[0m\u001b[0;34m[\u001b[0m\u001b[0;34m:\u001b[0m\u001b[0;34m]\u001b[0m\u001b[0;34m\u001b[0m\u001b[0;34m\u001b[0m\u001b[0m\n",
      "\u001b[0;32m~/opt/anaconda3/lib/python3.7/inspect.py\u001b[0m in \u001b[0;36mgetfile\u001b[0;34m(object)\u001b[0m\n\u001b[1;32m    664\u001b[0m     raise TypeError('module, class, method, function, traceback, frame, or '\n\u001b[1;32m    665\u001b[0m                     'code object was expected, got {}'.format(\n\u001b[0;32m--> 666\u001b[0;31m                     type(object).__name__))\n\u001b[0m\u001b[1;32m    667\u001b[0m \u001b[0;34m\u001b[0m\u001b[0m\n\u001b[1;32m    668\u001b[0m \u001b[0;32mdef\u001b[0m \u001b[0mgetmodulename\u001b[0m\u001b[0;34m(\u001b[0m\u001b[0mpath\u001b[0m\u001b[0;34m)\u001b[0m\u001b[0;34m:\u001b[0m\u001b[0;34m\u001b[0m\u001b[0;34m\u001b[0m\u001b[0m\n",
      "\u001b[0;31mTypeError\u001b[0m: module, class, method, function, traceback, frame, or code object was expected, got builtin_function_or_method"
     ]
    }
   ],
   "source": [
    "inspect.getsourcelines(__builtins__.print)"
   ]
  },
  {
   "cell_type": "code",
   "execution_count": 133,
   "metadata": {},
   "outputs": [],
   "source": [
    "time??"
   ]
  },
  {
   "cell_type": "code",
   "execution_count": 134,
   "metadata": {},
   "outputs": [],
   "source": [
    "import pandas"
   ]
  },
  {
   "cell_type": "code",
   "execution_count": 135,
   "metadata": {},
   "outputs": [
    {
     "data": {
      "text/plain": [
       "'# flake8: noqa\\n\\n__docformat__ = \"restructuredtext\"\\n\\n# Let users know if they\\'re missing any of our hard dependencies\\nhard_dependencies = (\"numpy\", \"pytz\", \"dateutil\")\\nmissing_dependencies = []\\n\\nfor dependency in hard_dependencies:\\n    try:\\n        __import__(dependency)\\n    except ImportError as e:\\n        missing_dependencies.append(f\"{dependency}: {e}\")\\n\\nif missing_dependencies:\\n    raise ImportError(\\n        \"Unable to import required dependencies:\\\\n\" + \"\\\\n\".join(missing_dependencies)\\n    )\\ndel hard_dependencies, dependency, missing_dependencies\\n\\n# numpy compat\\nfrom pandas.compat.numpy import (\\n    np_version_under1p17 as _np_version_under1p17,\\n    np_version_under1p18 as _np_version_under1p18,\\n    is_numpy_dev as _is_numpy_dev,\\n)\\n\\ntry:\\n    from pandas._libs import hashtable as _hashtable, lib as _lib, tslib as _tslib\\nexcept ImportError as e:  # pragma: no cover\\n    # hack but overkill to use re\\n    module = str(e).replace(\"cannot import name \", \"\")\\n    raise ImportError(\\n        f\"C extension: {module} not built. If you want to import \"\\n        \"pandas from the source directory, you may need to run \"\\n        \"\\'python setup.py build_ext --force\\' to build the C extensions first.\"\\n    ) from e\\n\\nfrom pandas._config import (\\n    get_option,\\n    set_option,\\n    reset_option,\\n    describe_option,\\n    option_context,\\n    options,\\n)\\n\\n# let init-time option registration happen\\nimport pandas.core.config_init\\n\\nfrom pandas.core.api import (\\n    # dtype\\n    Int8Dtype,\\n    Int16Dtype,\\n    Int32Dtype,\\n    Int64Dtype,\\n    UInt8Dtype,\\n    UInt16Dtype,\\n    UInt32Dtype,\\n    UInt64Dtype,\\n    Float32Dtype,\\n    Float64Dtype,\\n    CategoricalDtype,\\n    PeriodDtype,\\n    IntervalDtype,\\n    DatetimeTZDtype,\\n    StringDtype,\\n    BooleanDtype,\\n    # missing\\n    NA,\\n    isna,\\n    isnull,\\n    notna,\\n    notnull,\\n    # indexes\\n    Index,\\n    CategoricalIndex,\\n    Int64Index,\\n    UInt64Index,\\n    RangeIndex,\\n    Float64Index,\\n    MultiIndex,\\n    IntervalIndex,\\n    TimedeltaIndex,\\n    DatetimeIndex,\\n    PeriodIndex,\\n    IndexSlice,\\n    # tseries\\n    NaT,\\n    Period,\\n    period_range,\\n    Timedelta,\\n    timedelta_range,\\n    Timestamp,\\n    date_range,\\n    bdate_range,\\n    Interval,\\n    interval_range,\\n    DateOffset,\\n    # conversion\\n    to_numeric,\\n    to_datetime,\\n    to_timedelta,\\n    # misc\\n    Flags,\\n    Grouper,\\n    factorize,\\n    unique,\\n    value_counts,\\n    NamedAgg,\\n    array,\\n    Categorical,\\n    set_eng_float_format,\\n    Series,\\n    DataFrame,\\n)\\n\\nfrom pandas.core.arrays.sparse import SparseDtype\\n\\nfrom pandas.tseries.api import infer_freq\\nfrom pandas.tseries import offsets\\n\\nfrom pandas.core.computation.api import eval\\n\\nfrom pandas.core.reshape.api import (\\n    concat,\\n    lreshape,\\n    melt,\\n    wide_to_long,\\n    merge,\\n    merge_asof,\\n    merge_ordered,\\n    crosstab,\\n    pivot,\\n    pivot_table,\\n    get_dummies,\\n    cut,\\n    qcut,\\n)\\n\\nimport pandas.api\\nfrom pandas.util._print_versions import show_versions\\n\\nfrom pandas.io.api import (\\n    # excel\\n    ExcelFile,\\n    ExcelWriter,\\n    read_excel,\\n    # parsers\\n    read_csv,\\n    read_fwf,\\n    read_table,\\n    # pickle\\n    read_pickle,\\n    to_pickle,\\n    # pytables\\n    HDFStore,\\n    read_hdf,\\n    # sql\\n    read_sql,\\n    read_sql_query,\\n    read_sql_table,\\n    # misc\\n    read_clipboard,\\n    read_parquet,\\n    read_orc,\\n    read_feather,\\n    read_gbq,\\n    read_html,\\n    read_json,\\n    read_stata,\\n    read_sas,\\n    read_spss,\\n)\\n\\nfrom pandas.io.json import _json_normalize as json_normalize\\n\\nfrom pandas.util._tester import test\\nimport pandas.testing\\nimport pandas.arrays\\n\\n# use the closest tagged version if possible\\nfrom ._version import get_versions\\n\\nv = get_versions()\\n__version__ = v.get(\"closest-tag\", v[\"version\"])\\n__git_version__ = v.get(\"full-revisionid\")\\ndel get_versions, v\\n\\n\\n# GH 27101\\ndef __getattr__(name):\\n    import warnings\\n\\n    if name == \"datetime\":\\n        warnings.warn(\\n            \"The pandas.datetime class is deprecated \"\\n            \"and will be removed from pandas in a future version. \"\\n            \"Import from datetime module instead.\",\\n            FutureWarning,\\n            stacklevel=2,\\n        )\\n\\n        from datetime import datetime as dt\\n\\n        return dt\\n\\n    elif name == \"np\":\\n\\n        warnings.warn(\\n            \"The pandas.np module is deprecated \"\\n            \"and will be removed from pandas in a future version. \"\\n            \"Import numpy directly instead\",\\n            FutureWarning,\\n            stacklevel=2,\\n        )\\n        import numpy as np\\n\\n        return np\\n\\n    elif name in {\"SparseSeries\", \"SparseDataFrame\"}:\\n        warnings.warn(\\n            f\"The {name} class is removed from pandas. Accessing it from \"\\n            \"the top-level namespace will also be removed in the next version\",\\n            FutureWarning,\\n            stacklevel=2,\\n        )\\n\\n        return type(name, (), {})\\n\\n    elif name == \"SparseArray\":\\n\\n        warnings.warn(\\n            \"The pandas.SparseArray class is deprecated \"\\n            \"and will be removed from pandas in a future version. \"\\n            \"Use pandas.arrays.SparseArray instead.\",\\n            FutureWarning,\\n            stacklevel=2,\\n        )\\n        from pandas.core.arrays.sparse import SparseArray as _SparseArray\\n\\n        return _SparseArray\\n\\n    raise AttributeError(f\"module \\'pandas\\' has no attribute \\'{name}\\'\")\\n\\n\\n# module level doc-string\\n__doc__ = \"\"\"\\npandas - a powerful data analysis and manipulation library for Python\\n=====================================================================\\n\\n**pandas** is a Python package providing fast, flexible, and expressive data\\nstructures designed to make working with \"relational\" or \"labeled\" data both\\neasy and intuitive. It aims to be the fundamental high-level building block for\\ndoing practical, **real world** data analysis in Python. Additionally, it has\\nthe broader goal of becoming **the most powerful and flexible open source data\\nanalysis / manipulation tool available in any language**. It is already well on\\nits way toward this goal.\\n\\nMain Features\\n-------------\\nHere are just a few of the things that pandas does well:\\n\\n  - Easy handling of missing data in floating point as well as non-floating\\n    point data.\\n  - Size mutability: columns can be inserted and deleted from DataFrame and\\n    higher dimensional objects\\n  - Automatic and explicit data alignment: objects can be explicitly aligned\\n    to a set of labels, or the user can simply ignore the labels and let\\n    `Series`, `DataFrame`, etc. automatically align the data for you in\\n    computations.\\n  - Powerful, flexible group by functionality to perform split-apply-combine\\n    operations on data sets, for both aggregating and transforming data.\\n  - Make it easy to convert ragged, differently-indexed data in other Python\\n    and NumPy data structures into DataFrame objects.\\n  - Intelligent label-based slicing, fancy indexing, and subsetting of large\\n    data sets.\\n  - Intuitive merging and joining data sets.\\n  - Flexible reshaping and pivoting of data sets.\\n  - Hierarchical labeling of axes (possible to have multiple labels per tick).\\n  - Robust IO tools for loading data from flat files (CSV and delimited),\\n    Excel files, databases, and saving/loading data from the ultrafast HDF5\\n    format.\\n  - Time series-specific functionality: date range generation and frequency\\n    conversion, moving window statistics, date shifting and lagging.\\n\"\"\"\\n'"
      ]
     },
     "execution_count": 135,
     "metadata": {},
     "output_type": "execute_result"
    }
   ],
   "source": [
    "inspect.getsource(pandas)"
   ]
  },
  {
   "cell_type": "code",
   "execution_count": null,
   "metadata": {},
   "outputs": [],
   "source": []
  }
 ],
 "metadata": {
  "kernelspec": {
   "display_name": "Python 3",
   "language": "python",
   "name": "python3"
  },
  "language_info": {
   "codemirror_mode": {
    "name": "ipython",
    "version": 3
   },
   "file_extension": ".py",
   "mimetype": "text/x-python",
   "name": "python",
   "nbconvert_exporter": "python",
   "pygments_lexer": "ipython3",
   "version": "3.7.7"
  }
 },
 "nbformat": 4,
 "nbformat_minor": 4
}
